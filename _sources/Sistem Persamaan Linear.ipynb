{
 "cells": [
  {
   "cell_type": "markdown",
   "metadata": {},
   "source": [
    "# Sistem Persamaan Linear\n",
    "\n",
    "Sistem persamaan linear adalah hubungan sistematis yang digambarkan sebagai garis lurus dalam sistem koordinat kartesius. Apabila terdapat lebih dari satu persamaan linear, persamaan tersebut akan menjadi sebuah sistem.\n",
    "\n",
    "$$ a_{11}x_1 + a_{12}x_2 + \\hspace{0.5cm} ... \\hspace{0.5cm} + a_{1n}x_n = b_1 \\\\\n",
    "a_{21}x_1 + a_{22}x_2 + \\hspace{0.5cm} ... \\hspace{0.5cm} + a_{2n}x_n = b_2 \\\\\n",
    "\\vdots \\hspace{1.2cm} \\vdots \\hspace{3cm} \\vdots \\hspace{0.5cm}  = \\vdots \\\\\n",
    "a_{m1}x_1 + a_{m2}x_2 + \\hspace{0.5cm} ... \\hspace{0.5cm} +  a_{mn}x_n = b_m \\\\ $$"
   ]
  },
  {
   "cell_type": "markdown",
   "metadata": {},
   "source": [
    "# Sifat Persamaan Linear\n",
    "\n",
    "1. Penjumlahan dan pengurangan bilangan kedua ruas tidak mengubah nilai persamaan.\n",
    "2. Perkalian dan pembagian bilangan kedua ruas tidak mengubah nilai persamaan.\n",
    "3. Nilai persamaan tidak berubah jika kedua ruas ditambah atau dikurangi bilangan yang sama.\n",
    "4. Suatu persamaan jika dipindah ruas maka penjumlahan berubah menjadi pengurangan, perkalian menjadi pembagian dan sebaliknya."
   ]
  },
  {
   "cell_type": "markdown",
   "metadata": {},
   "source": [
    "# Metode Penyelesaian Persamaan Linear dengan Eliminasi Gauss "
   ]
  },
  {
   "cell_type": "markdown",
   "metadata": {},
   "source": [
    "Eliminasi Gauss adalah sebuah metode matematis yang digunakan untuk menyelesaikan sistem persamaan linear. Tujuan utamanya adalah untuk mengubah sistem persamaan linear yang kompleks menjadi bentuk yang lebih sederhana."
   ]
  },
  {
   "cell_type": "code",
   "execution_count": 1,
   "metadata": {},
   "outputs": [
    {
     "name": "stdout",
     "output_type": "stream",
     "text": [
      "[[ 8  9  1 19]\n",
      " [ 1  2  3  9]\n",
      " [ 2  1  1  5]]\n"
     ]
    }
   ],
   "source": [
    "# impor modul NumPy ke dalam kode Python\n",
    "import numpy as np\n",
    "# membuat sebuah array 3D untuk merepresentasikan matriks\n",
    "# matriks terdiri dari 3 baris dan 4 kolom\n",
    "A=np.array([[8,9,1,19],[1,2,3,9],[2,1,1,5]])\n",
    "print(A)"
   ]
  },
  {
   "cell_type": "code",
   "execution_count": 4,
   "metadata": {},
   "outputs": [],
   "source": [
    "# Fungsi untuk menukar 2 baris\n",
    "# A adalah matriks NumPy yang akan dimodifikasi\n",
    "# k, l adalah indeks baris yang akan ditukar\n",
    "def RowSwap(A,k,l):\n",
    "    m = A.shape[0]  # m adalah nomor dari baris A\n",
    "    n = A.shape[1]  # n adalah nomor dari kolom A\n",
    "\n",
    "    B = np.copy(A).astype('float64')\n",
    "\n",
    "    for j in range(n):\n",
    "        temp = B[k][j]\n",
    "        B[k][j] = B[l][j]\n",
    "        B[l][j] = temp\n",
    "\n",
    "    return B\n",
    "\n",
    "# Fungsi untuk mengalikan baris yang bukan nol\n",
    "# A adalah matriks NumPy yang akan dimodifikasi\n",
    "def RowScale(A,k,scale):\n",
    "    m = A.shape[0]  # m adalah nomor dari baris A\n",
    "    n = A.shape[1]  # n adalah nomor dari kolom A\n",
    "\n",
    "    B = np.copy(A).astype('float64')\n",
    "\n",
    "    for j in range(n):\n",
    "        B[k][j] *= scale\n",
    "\n",
    "    return B\n",
    "\n",
    "# Fungsi untuk mengalikan sebuah konstanta ke satu baris dan menambahkan ke baris lainnya\n",
    "# l adalah baris yang sudah ditambahkan ke dalam baris k\n",
    "def RowAdd(A,k,l,scale):\n",
    "    m = A.shape[0]  # m adalah nomor dari baris A\n",
    "    n = A.shape[1]  # n adalah nomor dari kolom A\n",
    "\n",
    "    B = np.copy(A).astype('float64')\n",
    "\n",
    "    for j in range(n):\n",
    "        B[l][j] += B[k][j]*scale\n",
    "\n",
    "    return B"
   ]
  },
  {
   "cell_type": "code",
   "execution_count": 5,
   "metadata": {},
   "outputs": [
    {
     "name": "stdout",
     "output_type": "stream",
     "text": [
      "[[ 1.  2.  3.  9.]\n",
      " [ 8.  9.  1. 19.]\n",
      " [ 2.  1.  1.  5.]]\n"
     ]
    }
   ],
   "source": [
    "# Menukar baris ke 1 dan baris ke 2 dari matriks A\n",
    "A1 = RowSwap(A,0,1)\n",
    "print(A1)"
   ]
  },
  {
   "cell_type": "code",
   "execution_count": 6,
   "metadata": {},
   "outputs": [
    {
     "name": "stdout",
     "output_type": "stream",
     "text": [
      "[[  1.   2.   3.   9.]\n",
      " [  0.  -7. -23. -53.]\n",
      " [  2.   1.   1.   5.]]\n"
     ]
    }
   ],
   "source": [
    "# Penambahan baris ke 1 yang sudah dikalikan dengan -8 ke baris ke 2 dari matriks A1\n",
    "A2 = RowAdd(A1,0,1,-8)\n",
    "print(A2)"
   ]
  },
  {
   "cell_type": "code",
   "execution_count": 7,
   "metadata": {},
   "outputs": [
    {
     "name": "stdout",
     "output_type": "stream",
     "text": [
      "[[  1.   2.   3.   9.]\n",
      " [  0.  -7. -23. -53.]\n",
      " [  0.  -3.  -5. -13.]]\n"
     ]
    }
   ],
   "source": [
    "# Penambahan baris ke 2 yang sudah dikalikan dengan -2 ke baris ke 3 dari matriks A2\n",
    "A3 = RowAdd(A2,0,2,-2)\n",
    "print(A3)"
   ]
  },
  {
   "cell_type": "code",
   "execution_count": 8,
   "metadata": {},
   "outputs": [
    {
     "name": "stdout",
     "output_type": "stream",
     "text": [
      "[[  1.           2.           3.           9.        ]\n",
      " [ -0.           1.           3.28571429   7.57142857]\n",
      " [  0.          -3.          -5.         -13.        ]]\n"
     ]
    }
   ],
   "source": [
    "# Setiap elemen baris ke 2 dikalikan dengan skalar -1/7\n",
    "A4 = RowScale(A3,1,-1/7)\n",
    "print(A4)"
   ]
  },
  {
   "cell_type": "code",
   "execution_count": 9,
   "metadata": {},
   "outputs": [
    {
     "name": "stdout",
     "output_type": "stream",
     "text": [
      "[[ 1.          2.          3.          9.        ]\n",
      " [-0.          1.          3.28571429  7.57142857]\n",
      " [ 0.          0.          4.85714286  9.71428571]]\n"
     ]
    }
   ],
   "source": [
    "# Penambahan baris ke 2 yang telah dikalikan dengan 3 ke baris ke 3 dari matriks A4\n",
    "A5 = RowAdd(A4,1,2,3)\n",
    "print(A5)"
   ]
  },
  {
   "cell_type": "code",
   "execution_count": 10,
   "metadata": {},
   "outputs": [
    {
     "name": "stdout",
     "output_type": "stream",
     "text": [
      "[[ 1.          2.          3.          9.        ]\n",
      " [-0.          1.          3.28571429  7.57142857]\n",
      " [ 0.          0.          1.          2.        ]]\n"
     ]
    }
   ],
   "source": [
    "# Setiap elemen baris ke 3 dikalikan dengan skalar 1/4.85714286\n",
    "A6 = RowScale(A5,2,1/4.85714286)\n",
    "print(A6)"
   ]
  },
  {
   "cell_type": "markdown",
   "metadata": {},
   "source": [
    "Persamaannya adalah\n",
    "\n",
    "$x_1 + 2x_2 + 3x_3 = 9\\\\\n",
    "x_2 + 3.28571429x_3 = 7.57142857\\\\\n",
    "x_3 = 2$"
   ]
  },
  {
   "cell_type": "code",
   "execution_count": 1,
   "metadata": {},
   "outputs": [
    {
     "name": "stdout",
     "output_type": "stream",
     "text": [
      "X3 = 2\n",
      "X2 = 1\n",
      "X1 = 1\n"
     ]
    }
   ],
   "source": [
    "X3 = 2\n",
    "print('X3 =',X3)\n",
    "X2 = 7.57142857 - (3.28571429 *2)\n",
    "print('X2 =', round(X2))\n",
    "X1 = 9 - 2*X2 - 3*X3\n",
    "print('X1 =',round(X1))"
   ]
  },
  {
   "cell_type": "markdown",
   "metadata": {},
   "source": [
    "## Mengimplementasikan Hasil Persamaan ke dalam bentuk 3D"
   ]
  },
  {
   "cell_type": "markdown",
   "metadata": {},
   "source": [
    "Matplotlib digunakan untuk membuat grafik dan visualisasi data dengan berbagai jenis grafik seperti garis, scatter plot, dan histogram dengan menggunakan bahasa pemrograman python."
   ]
  },
  {
   "cell_type": "code",
   "execution_count": 16,
   "metadata": {},
   "outputs": [],
   "source": [
    "# solusi\n",
    "X3 = 2\n",
    "X2 = 1\n",
    "X1 = 1"
   ]
  },
  {
   "cell_type": "markdown",
   "metadata": {},
   "source": [
    "### Import Module\n",
    "\n",
    "%matplotlib inline adalah penggunaan Matplotlib untuk menampilkan plot garis sederhana di dalam notebook."
   ]
  },
  {
   "cell_type": "code",
   "execution_count": 17,
   "metadata": {},
   "outputs": [
    {
     "data": {
      "image/png": "[encoded data removed]",
      "text/plain": [
       "<Figure size 640x480 with 1 Axes>"
      ]
     },
     "metadata": {},
     "output_type": "display_data"
    }
   ],
   "source": [
    "import matplotlib.pyplot as plt\n",
    "from matplotlib import cm\n",
    "\n",
    "# Persamaan 8x1 + 9x2 + x3 = 19\n",
    "x1, y1, z1, w1 = 8, 9, 1, 19\n",
    "\n",
    "# Persamaan x1 + 2x2 + 3x3 = 9\n",
    "x2, y2, z2, w2 = 1, 2, 3, 9\n",
    "\n",
    "# Persamaan 2x1 + x2 + x3 = 5\n",
    "x3, y3, z3, w3 = 2, 1, 1, 5\n",
    "\n",
    "x_axis, y_axis = np.linspace(0,20,10), np.linspace(0,20,10)\n",
    "X, Y = np.meshgrid(x_axis, y_axis)\n",
    "Z1 = (w1 - x1*X - y1*Y)/z1\n",
    "Z2 = (w2 - x2*X - y2*Y)/z2\n",
    "Z3 = (w3 + X - Y)/z3\n",
    "\n",
    "fig = plt.figure()\n",
    "ax = fig.add_subplot(111, projection='3d')\n",
    "\n",
    "ax.plot_surface(X, Y, Z1, alpha=1, cmap=cm.Accent, rstride=100, cstride=100)\n",
    "ax.plot_surface(X, Y, Z2, alpha=1, cmap=cm.Paired, rstride=100, cstride=100)\n",
    "ax.plot_surface(X, Y, Z3, alpha=1, cmap=cm.Pastel1, rstride=100, cstride=100)\n",
    "\n",
    "ax.plot((X1,), (X2,), (X3,), lw=2, c='k', marker='o', markersize=7, markeredgecolor='g', markerfacecolor='white')\n",
    "ax.set_xlabel('X axis')\n",
    "ax.set_ylabel('Y axis')\n",
    "ax.set_zlabel('Z axis')\n",
    "\n",
    "plt.show()"
   ]
  }
 ],
 "metadata": {
  "kernelspec": {
   "display_name": "Python 3 (ipykernel)",
   "language": "python",
   "name": "python3"
  },
  "language_info": {
   "codemirror_mode": {
    "name": "ipython",
    "version": 3
   },
   "file_extension": ".py",
   "mimetype": "text/x-python",
   "name": "python",
   "nbconvert_exporter": "python",
   "pygments_lexer": "ipython3",
   "version": "3.10.13"
  }
 },
 "nbformat": 4,
 "nbformat_minor": 2
}
