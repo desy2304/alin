{
  "cells": [
    {
      "cell_type": "markdown",
      "metadata": {
        "id": "qK-M6IAQZUPt"
      },
      "source": [
        "# Determinan\n",
        "\n",
        "Determinan adalah ukuran skalar dari matriks. Determinan hanya berlaku untuk matriks bujur sangkar."
      ]
    },
    {
      "cell_type": "markdown",
      "metadata": {
        "id": "HwWSklId6QDZ"
      },
      "source": [
        "# Sifat-sifat Determinan\n",
        "## 1. Determinan dari matriks identitas adalah 1."
      ]
    },
    {
      "cell_type": "code",
      "execution_count": 2,
      "metadata": {
        "colab": {
          "base_uri": "https://localhost:8080/"
        },
        "id": "_F1O2GrpX4Tf",
        "outputId": "64cf4b19-2535-4d64-bac4-baa4e581111d"
      },
      "outputs": [
        {
          "name": "stdout",
          "output_type": "stream",
          "text": [
            "[[2 3]\n",
            " [2 1]] \n",
            "\n",
            "[[2 4 3]\n",
            " [2 5 6]\n",
            " [2 5 1]] \n",
            "\n",
            "[[1 0]\n",
            " [0 1]] \n",
            "\n",
            "[[1 0 0]\n",
            " [0 1 0]\n",
            " [0 0 1]] \n",
            "\n"
          ]
        }
      ],
      "source": [
        "import numpy as np\n",
        "A = np.array([[2,3],[2,1]])\n",
        "B = np.array([[2,4,3],[2,5,6],[2,5,1]])\n",
        "C = np.array([[1,0],[0,1]])\n",
        "D = np.array([[1,0,0],[0,1,0],[0,0,1]])\n",
        "\n",
        "print(A,'\\n')\n",
        "print(B,'\\n')\n",
        "print(C,'\\n')\n",
        "print(D,'\\n')"
      ]
    },
    {
      "cell_type": "code",
      "execution_count": null,
      "metadata": {
        "colab": {
          "base_uri": "https://localhost:8080/"
        },
        "id": "8-nLDwW2apEz",
        "outputId": "3fcf3131-d4b1-4336-f47a-4d1a1358e22a"
      },
      "outputs": [
        {
          "name": "stdout",
          "output_type": "stream",
          "text": [
            "1.0\n",
            "1.0\n"
          ]
        }
      ],
      "source": [
        "A_det = np.linalg.det(C)\n",
        "B_det = np.linalg.det(D)\n",
        "\n",
        "print(A_det)\n",
        "print(B_det)"
      ]
    },
    {
      "cell_type": "code",
      "execution_count": null,
      "metadata": {
        "colab": {
          "base_uri": "https://localhost:8080/"
        },
        "id": "GbStk8brcJWl",
        "outputId": "30e5fa21-b296-4ecb-9a57-e0a577e0cfec"
      },
      "outputs": [
        {
          "name": "stdout",
          "output_type": "stream",
          "text": [
            "[[-0.25  0.75]\n",
            " [ 0.5  -0.5 ]]\n",
            "[[ 2.5 -1.1 -0.9]\n",
            " [-1.   0.4  0.6]\n",
            " [-0.   0.2 -0.2]]\n"
          ]
        }
      ],
      "source": [
        "A_inv = np.linalg.inv(A)\n",
        "B_inv = np.linalg.inv(B)\n",
        "\n",
        "print(A_inv)\n",
        "print(B_inv)"
      ]
    },
    {
      "cell_type": "markdown",
      "metadata": {
        "id": "s2Sg6mbf6tJJ"
      },
      "source": [
        "## 2. Determinan matriks AB sama dengan determinan matriks A dikali determinan matriks B.\n",
        "\n",
        "$det(AB) = det(A).det(B)$\n",
        "\n",
        "Jika,\n",
        "\n",
        "$I = A.A^{-1}$\n",
        "\n",
        "maka,\n",
        "\n",
        "$det(I) = det(A).det(A^{-1})$\n",
        "\n",
        "sehingga,\n",
        "\n",
        "$det(A^{-1}) = \\frac{1}{det(A)}$"
      ]
    },
    {
      "cell_type": "code",
      "execution_count": null,
      "metadata": {
        "colab": {
          "base_uri": "https://localhost:8080/"
        },
        "id": "ImQvcjSOclNN",
        "outputId": "3dd72f28-15b0-4043-ce2b-aaae92267a16"
      },
      "outputs": [
        {
          "name": "stdout",
          "output_type": "stream",
          "text": [
            "1.0\n"
          ]
        }
      ],
      "source": [
        "# det(AB) = det(A.B)\n",
        "det_AB = np.dot(A_det,B_det)\n",
        "\n",
        "print(det_AB)"
      ]
    },
    {
      "cell_type": "code",
      "execution_count": null,
      "metadata": {
        "colab": {
          "base_uri": "https://localhost:8080/"
        },
        "id": "0d_ZwoFidjbP",
        "outputId": "bb326e0c-779a-4ed4-8f00-1c7b5a580e41"
      },
      "outputs": [
        {
          "name": "stdout",
          "output_type": "stream",
          "text": [
            "[[-0.25  0.75]\n",
            " [ 0.5  -0.5 ]]\n"
          ]
        }
      ],
      "source": [
        "# det(I) = det(A).det(A-1)\n",
        "I = np.dot(A_det,A_inv)\n",
        "\n",
        "print(I)"
      ]
    },
    {
      "cell_type": "markdown",
      "metadata": {
        "id": "Y5q1bUeL9Y-N"
      },
      "source": [
        "## 3. Menukar baris atau kolom dari matriks akan mengubah tanda dari determinan."
      ]
    },
    {
      "cell_type": "code",
      "execution_count": null,
      "metadata": {
        "colab": {
          "base_uri": "https://localhost:8080/"
        },
        "id": "XkTeTIRDgYf9",
        "outputId": "bdbed6f9-c21d-49ba-ac7a-40b3526da3ec"
      },
      "outputs": [
        {
          "name": "stdout",
          "output_type": "stream",
          "text": [
            "[[1 4 2]\n",
            " [1 1 1]\n",
            " [3 2 1]]\n"
          ]
        }
      ],
      "source": [
        "A = np.array([[1,4,2],[1,1,1],[3,2,1]])\n",
        "print(A)"
      ]
    },
    {
      "cell_type": "code",
      "execution_count": null,
      "metadata": {
        "colab": {
          "base_uri": "https://localhost:8080/"
        },
        "id": "ymlh_UGQgzYr",
        "outputId": "70fe6215-8ada-4c2c-d4ca-353dd84c579b"
      },
      "outputs": [
        {
          "name": "stdout",
          "output_type": "stream",
          "text": [
            "5\n"
          ]
        }
      ],
      "source": [
        "A_det = np.linalg.det(A)\n",
        "\n",
        "print(round(A_det))"
      ]
    },
    {
      "cell_type": "code",
      "execution_count": null,
      "metadata": {
        "colab": {
          "base_uri": "https://localhost:8080/"
        },
        "id": "ZmKwi3VqhO9M",
        "outputId": "40ff9ee8-2f87-41fe-f16e-57bd4b9fe549"
      },
      "outputs": [
        {
          "name": "stdout",
          "output_type": "stream",
          "text": [
            "[[1 4 2]\n",
            " [1 1 1]\n",
            " [3 2 1]] \n",
            "\n",
            "-5\n"
          ]
        }
      ],
      "source": [
        "# menukar 1 baris/kolom matriks akan merubah tanda determinan\n",
        "A1 = np.array([[1,1,1],[1,4,2],[3,2,1]])\n",
        "A1_det = np.linalg.det(A1)\n",
        "\n",
        "print(A1, '\\n')\n",
        "print(round(A1_det))"
      ]
    },
    {
      "cell_type": "code",
      "execution_count": null,
      "metadata": {
        "colab": {
          "base_uri": "https://localhost:8080/"
        },
        "id": "H9RteD54hxJp",
        "outputId": "0ccbb263-df1d-4f33-e4c7-9b8a833e6830"
      },
      "outputs": [
        {
          "name": "stdout",
          "output_type": "stream",
          "text": [
            "[[4 1 2]\n",
            " [1 1 1]\n",
            " [2 3 1]] \n",
            "\n",
            "-5\n"
          ]
        }
      ],
      "source": [
        "A2 = np.array([[4,1,2],[1,1,1],[2,3,1]])\n",
        "A2_det = np.linalg.det(A2)\n",
        "\n",
        "print(A2, '\\n')\n",
        "print(round(A2_det))"
      ]
    },
    {
      "cell_type": "markdown",
      "metadata": {
        "id": "I8yaiAti92gO"
      },
      "source": [
        "## 4. Jika baris atau kolom dari matriks merupakan kelipatan dari baris atau kolom yang lain maka hasil determinannya akan sama dengan 0."
      ]
    },
    {
      "cell_type": "code",
      "execution_count": null,
      "metadata": {
        "colab": {
          "base_uri": "https://localhost:8080/"
        },
        "id": "F9wwGkEtiOU0",
        "outputId": "0202e5d1-fbbc-4805-d697-d471ecfb21c7"
      },
      "outputs": [
        {
          "name": "stdout",
          "output_type": "stream",
          "text": [
            "[[1 4 2]\n",
            " [2 8 4]\n",
            " [3 2 1]] \n",
            "\n",
            "0\n"
          ]
        }
      ],
      "source": [
        "A = np.array([[1,4,2],[2,8,4],[3,2,1]])\n",
        "A_det = np.linalg.det(A)\n",
        "\n",
        "print(A, '\\n')\n",
        "print(round(A_det))"
      ]
    },
    {
      "cell_type": "code",
      "execution_count": null,
      "metadata": {
        "colab": {
          "base_uri": "https://localhost:8080/"
        },
        "id": "l62nrquXjOE_",
        "outputId": "b4e8f380-918f-4adc-d065-6997be9d6640"
      },
      "outputs": [
        {
          "name": "stdout",
          "output_type": "stream",
          "text": [
            "[[1 4 2]\n",
            " [2 8 3]\n",
            " [1 4 1]] \n",
            "\n",
            "0\n"
          ]
        }
      ],
      "source": [
        "B = np.array([[1,4,2],[2,8,3],[1,4,1]])\n",
        "B_det = np.linalg.det(B)\n",
        "\n",
        "print(B, '\\n')\n",
        "print(round(B_det))"
      ]
    },
    {
      "cell_type": "markdown",
      "metadata": {
        "id": "Z1mMxf4i-kJc"
      },
      "source": [
        "## 5. Jika determinan skalar K dan determinan matriks $A_{nXn}$ dikalikan, maka $det(K.A) = K^n.det(A)$."
      ]
    },
    {
      "cell_type": "code",
      "execution_count": 3,
      "metadata": {
        "colab": {
          "base_uri": "https://localhost:8080/"
        },
        "id": "SuzXC3WKlYuI",
        "outputId": "59cb736f-45cd-4fd8-871d-a762330a6157"
      },
      "outputs": [
        {
          "name": "stdout",
          "output_type": "stream",
          "text": [
            "[[1 4 2]\n",
            " [1 1 1]\n",
            " [3 2 1]] \n",
            "\n",
            "5 \n",
            "\n",
            "[[2 8 4]\n",
            " [2 2 2]\n",
            " [6 4 2]]\n"
          ]
        }
      ],
      "source": [
        "K = 2\n",
        "A = np.array([[1,4,2],[1,1,1],[3,2,1]])\n",
        "A_det = np.linalg.det(A)\n",
        "K_A = np.dot(K,A)\n",
        "\n",
        "print(A, '\\n')\n",
        "print(round(A_det), '\\n')\n",
        "print(K_A)"
      ]
    },
    {
      "cell_type": "code",
      "execution_count": null,
      "metadata": {
        "colab": {
          "base_uri": "https://localhost:8080/"
        },
        "id": "74L4gx4olyaw",
        "outputId": "3cbb6dd6-6508-41fd-a695-6d4d6183a365"
      },
      "outputs": [
        {
          "name": "stdout",
          "output_type": "stream",
          "text": [
            "40\n"
          ]
        }
      ],
      "source": [
        "KA_det = np.linalg.det(K_A)\n",
        "\n",
        "print(round(KA_det))"
      ]
    },
    {
      "cell_type": "code",
      "execution_count": 4,
      "metadata": {
        "colab": {
          "base_uri": "https://localhost:8080/"
        },
        "id": "uyo7CcR2n2vZ",
        "outputId": "c34e9e24-53c7-4472-f05e-0f0f3cb6b840"
      },
      "outputs": [
        {
          "name": "stdout",
          "output_type": "stream",
          "text": [
            "5\n",
            "10\n"
          ]
        }
      ],
      "source": [
        "A = np.array([[1,4,2],[1,1,1],[3,2,1]])\n",
        "B = np.array([[2,8,4],[1,1,1],[3,2,1]])\n",
        "\n",
        "A_det = np.linalg.det(A)\n",
        "B_det = np.linalg.det(B)\n",
        "\n",
        "print(round(A_det))\n",
        "print(round(B_det))"
      ]
    },
    {
      "cell_type": "markdown",
      "metadata": {
        "id": "ymIB598sraHh"
      },
      "source": [
        "## 6. Melakukan operasi baris elementer terhadap matriks tidak akan merubah invers atau nilai."
      ]
    },
    {
      "cell_type": "code",
      "execution_count": null,
      "metadata": {
        "colab": {
          "base_uri": "https://localhost:8080/"
        },
        "id": "y9rWSpHirFCP",
        "outputId": "d372ab96-53bd-4f6b-f55a-2be325d466e8"
      },
      "outputs": [
        {
          "name": "stdout",
          "output_type": "stream",
          "text": [
            "[[ 1  4  2]\n",
            " [ 0 -3 -1]\n",
            " [ 3  2  1]] \n",
            "\n",
            "5\n"
          ]
        }
      ],
      "source": [
        "B = np.array([[1,4,2],[0,-3,-1],[3,2,1]])\n",
        "B_det = np.linalg.det(B)\n",
        "\n",
        "print(B,'\\n')\n",
        "print(round(B_det))"
      ]
    },
    {
      "cell_type": "markdown",
      "metadata": {
        "id": "NXWd81wTrywS"
      },
      "source": [
        "## 7. Determinan A transpose sama dengan determinan A."
      ]
    },
    {
      "cell_type": "code",
      "execution_count": null,
      "metadata": {
        "colab": {
          "base_uri": "https://localhost:8080/"
        },
        "id": "Y6UqSKEEr_11",
        "outputId": "615b1787-d598-47e9-95c2-87940ba7b17c"
      },
      "outputs": [
        {
          "name": "stdout",
          "output_type": "stream",
          "text": [
            "[[1 4 2]\n",
            " [1 1 1]\n",
            " [3 2 1]] \n",
            "\n",
            "5 \n",
            "\n",
            "[[1 1 3]\n",
            " [4 1 2]\n",
            " [2 1 1]] \n",
            "\n",
            "5\n"
          ]
        }
      ],
      "source": [
        "A = np.array([[1,4,2],[1,1,1],[3,2,1]])\n",
        "A_det = np.linalg.det(A)\n",
        "A1 = np.transpose(A)\n",
        "A1_det = np.linalg.det(A1)\n",
        "\n",
        "print(A,'\\n')\n",
        "print(round(A_det), '\\n')\n",
        "print(A1, '\\n')\n",
        "print(round(A1_det))"
      ]
    },
    {
      "cell_type": "markdown",
      "metadata": {
        "id": "AiCQ2RFhopVy"
      },
      "source": [
        "# Matriks Segitiga Atas\n",
        "\n",
        "Adalah matriks bujur yang di bawah diagonal utama adalah nol.\n",
        "\n",
        "Hasil determinannya merupakan hasil perkalian dari setiap diagonal."
      ]
    },
    {
      "cell_type": "code",
      "execution_count": null,
      "metadata": {
        "colab": {
          "base_uri": "https://localhost:8080/"
        },
        "id": "v6wrQCXgpSNa",
        "outputId": "e98ebf6d-6a17-4221-95cc-bc3374a58fc7"
      },
      "outputs": [
        {
          "name": "stdout",
          "output_type": "stream",
          "text": [
            "[[2 3 1 2]\n",
            " [0 1 2 1]\n",
            " [0 0 5 2]\n",
            " [0 0 0 3]] \n",
            "\n",
            "30\n"
          ]
        }
      ],
      "source": [
        "A = np.array([[2,3,1,2],[0,1,2,1],[0,0,5,2],[0,0,0,3]])\n",
        "A_det = np.linalg.det(A)\n",
        "\n",
        "print(A,'\\n')\n",
        "print(round(A_det))"
      ]
    },
    {
      "cell_type": "code",
      "execution_count": 5,
      "metadata": {
        "colab": {
          "base_uri": "https://localhost:8080/"
        },
        "id": "0_X5m3cNA_cp",
        "outputId": "f81b9746-b651-4088-f9f1-6ac6831e5582"
      },
      "outputs": [
        {
          "name": "stdout",
          "output_type": "stream",
          "text": [
            "[[1 4 2]\n",
            " [0 4 1]\n",
            " [0 0 1]] \n",
            "\n",
            "4\n"
          ]
        }
      ],
      "source": [
        "A = np.array([[1,4,2],[0,4,1],[0,0,1]])\n",
        "A_det = np.linalg.det(A)\n",
        "\n",
        "print(A,'\\n')\n",
        "print(round(A_det))"
      ]
    },
    {
      "cell_type": "code",
      "execution_count": 6,
      "metadata": {
        "colab": {
          "base_uri": "https://localhost:8080/"
        },
        "id": "Z2pYIBMPBO8h",
        "outputId": "970a23ee-6205-41ce-f2fe-ac8e55192660"
      },
      "outputs": [
        {
          "name": "stdout",
          "output_type": "stream",
          "text": [
            "[[4 2]\n",
            " [0 1]] \n",
            "\n",
            "4\n"
          ]
        }
      ],
      "source": [
        "A = np.array([[4,2],[0,1]])\n",
        "A_det = np.linalg.det(A)\n",
        "\n",
        "print(A,'\\n')\n",
        "print(round(A_det))"
      ]
    },
    {
      "cell_type": "markdown",
      "metadata": {
        "id": "tawUzrtXBVxk"
      },
      "source": [
        "# Ekspansi Kofaktor\n",
        "Ekspansi kofaktor adalah cara untuk menemukan determinan matriks dengan mengalikan setiap elemen dalam baris atau kolom tertentu dengan kofaktornya, kemudian menjumlahkan hasilnya."
      ]
    },
    {
      "cell_type": "markdown",
      "metadata": {
        "id": "QRh_KNW5C1CP"
      },
      "source": [
        "## Menghitung determinan matriks 4x4 menggunakan ekspansi kofaktor"
      ]
    },
    {
      "cell_type": "markdown",
      "metadata": {
        "id": "yx3RR9U3C9Pv"
      },
      "source": [
        "$A = \\begin{bmatrix}\n",
        "3 & 1 & 0 & 2 \\\\\n",
        "-1 & 2 & 4 & 1 \\\\\n",
        "2 & 0 & 3 & -2 \\\\\n",
        "1 & -3 & 2 & 1 \\\\\n",
        "\\end{bmatrix} = a_{11}c_{11} + a_{12}c_{12} + a_{13}c_{13} + a_{14}c_{14}$"
      ]
    },
    {
      "cell_type": "markdown",
      "metadata": {},
      "source": [
        "$(-1)^{1+1}det = \\begin{bmatrix}\n",
        "2 & 4 & 1 \\\\\n",
        "0 & 3 & -2 \\\\\n",
        "-3 & 2 & 1 \\\\\n",
        "\\end{bmatrix}$\n",
        "\n",
        "$(-1)^{1+2}det = \\begin{bmatrix}\n",
        "-1 & 4 & 1 \\\\\n",
        "2 & 3 & -2 \\\\\n",
        "1 & 2 & 1 \\\\\n",
        "\\end{bmatrix}$\n",
        "\n",
        "$(-1)^{1+3}det = \\begin{bmatrix}\n",
        "-1 & 2 & 1 \\\\\n",
        "2 & 0 & -2 \\\\\n",
        "1 & -3 & 1 \\\\\n",
        "\\end{bmatrix}$\n",
        "\n",
        "$(-1)^{1+4}det = \\begin{bmatrix}\n",
        "-1 & 2 & 4 \\\\\n",
        "2 & 0 & 3 \\\\\n",
        "1 & -3 & 2 \\\\\n",
        "\\end{bmatrix}$"
      ]
    },
    {
      "cell_type": "markdown",
      "metadata": {},
      "source": [
        "$C_{11} = \\begin{bmatrix}\n",
        "2 & 4 & 1 \\\\\n",
        "0 & 3 & -2 \\\\\n",
        "-3 & 2 & 1 \\\\\n",
        "\\end{bmatrix}$\n",
        "\n",
        "$2.(-1)^{1+1} det = \\begin{bmatrix}\n",
        "3 & -2 \\\\\n",
        "2 & 1 \\\\\n",
        "\\end{bmatrix}$\n",
        "\n",
        "$4.(-1)^{1+2} det = \\begin{bmatrix}\n",
        "0 & -2 \\\\\n",
        "-3 & 1 \\\\\n",
        "\\end{bmatrix}$\n",
        "\n",
        "$1.(-1)^{1+3} det = \\begin{bmatrix}\n",
        "0 & 3 \\\\\n",
        "-3 & 2 \\\\\n",
        "\\end{bmatrix}$"
      ]
    },
    {
      "cell_type": "markdown",
      "metadata": {},
      "source": [
        "$C_{11} = 2(3+4)-4(0-6)+1(0+9) = 47$"
      ]
    },
    {
      "cell_type": "markdown",
      "metadata": {},
      "source": [
        "$C_{12} = \\begin{bmatrix}\n",
        "-1 & 4 & 1 \\\\\n",
        "2 & 3 & -2 \\\\\n",
        "1 & 2 & 1 \\\\\n",
        "\\end{bmatrix}$\n",
        "\n",
        "$-1.(-1)^{1+1} det = \\begin{bmatrix}\n",
        "3 & -2 \\\\\n",
        "2 & 1 \\\\\n",
        "\\end{bmatrix}$\n",
        "\n",
        "$4.(-1)^{1+2} det = \\begin{bmatrix}\n",
        "2 & -2 \\\\\n",
        "1 & 1 \\\\\n",
        "\\end{bmatrix}$\n",
        "\n",
        "$1.(-1)^{1+3} det = \\begin{bmatrix}\n",
        "2 & 3 \\\\\n",
        "1 & 2 \\\\\n",
        "\\end{bmatrix}$"
      ]
    },
    {
      "cell_type": "markdown",
      "metadata": {},
      "source": [
        "$C_{12} = -1(3+4)-4(2+2)+1(4-3) = -22$"
      ]
    },
    {
      "cell_type": "markdown",
      "metadata": {},
      "source": [
        "$C_{13} = \\begin{bmatrix}\n",
        "-1 & 2 & 1 \\\\\n",
        "2 & 0 & -2 \\\\\n",
        "1 & -3 & 1 \\\\\n",
        "\\end{bmatrix}$\n",
        "\n",
        "$-1.(-1)^{1+1} det = \\begin{bmatrix}\n",
        "0 & -2 \\\\\n",
        "-3 & 1 \\\\\n",
        "\\end{bmatrix}$\n",
        "\n",
        "$2.(-1)^{1+2} det = \\begin{bmatrix}\n",
        "2 & -2 \\\\\n",
        "1 & 1 \\\\\n",
        "\\end{bmatrix}$\n",
        "\n",
        "$1.(-1)^{1+3} det = \\begin{bmatrix}\n",
        "2 & 0 \\\\\n",
        "1 & -3 \\\\\n",
        "\\end{bmatrix}$"
      ]
    },
    {
      "cell_type": "markdown",
      "metadata": {},
      "source": [
        "$C_{13} = -1(0-6)-2(2+2)+1(-6-0) = -8$"
      ]
    },
    {
      "cell_type": "markdown",
      "metadata": {},
      "source": [
        "$C_{14} = \\begin{bmatrix}\n",
        "-1 & 2 & 4 \\\\\n",
        "2 & 0 & 3 \\\\\n",
        "1 & -3 & 2 \\\\\n",
        "\\end{bmatrix}$\n",
        "\n",
        "$-1.(-1)^{1+1} det = \\begin{bmatrix}\n",
        "0 & 3 \\\\\n",
        "-3 & 2 \\\\\n",
        "\\end{bmatrix}$\n",
        "\n",
        "$2.(-1)^{1+2} det = \\begin{bmatrix}\n",
        "2 & 3 \\\\\n",
        "1 & 2 \\\\\n",
        "\\end{bmatrix}$\n",
        "\n",
        "$4.(-1)^{1+3} det = \\begin{bmatrix}\n",
        "2 & 0 \\\\\n",
        "1 & -3 \\\\\n",
        "\\end{bmatrix}$"
      ]
    },
    {
      "cell_type": "markdown",
      "metadata": {},
      "source": [
        "$C_{14} = -1(0+9)-2(4-3)+4(-6-0) = -35$"
      ]
    },
    {
      "cell_type": "markdown",
      "metadata": {},
      "source": [
        "$A = \\begin{bmatrix}\n",
        "3 & 1 & 0 & 2 \\\\\n",
        "-1 & 2 & 4 & 1 \\\\\n",
        "2 & 0 & 3 & -2 \\\\\n",
        "1 & -3 & 2 & 1 \\\\\n",
        "\\end{bmatrix} = a_{11}c_{11} + a_{12}c_{12} + a_{13}c_{13} + a_{14}c_{14}$\n",
        "\n",
        "$= 3.(47)-1.(-22)+0(-8)-2(-35)$\n",
        "\n",
        "$= 141 + 22 - 0 + 70$\n",
        "\n",
        "$= 233$"
      ]
    },
    {
      "cell_type": "code",
      "execution_count": 3,
      "metadata": {},
      "outputs": [
        {
          "name": "stdout",
          "output_type": "stream",
          "text": [
            "[[ 3  1  0  2]\n",
            " [-1  2  4  1]\n",
            " [ 2  0  3 -2]\n",
            " [ 1 -3  2  1]]\n",
            "233\n"
          ]
        }
      ],
      "source": [
        "import numpy as np\n",
        "A = np.array([[3,1,0,2],[-1,2,4,1],[2,0,3,-2],[1,-3,2,1]])\n",
        "A_det = np.linalg.det(A)\n",
        "\n",
        "print(A)\n",
        "print(round(A_det))"
      ]
    }
  ],
  "metadata": {
    "colab": {
      "provenance": []
    },
    "kernelspec": {
      "display_name": "Python 3 (ipykernel)",
      "language": "python",
      "name": "python3"
    }
  },
  "nbformat": 4,
  "nbformat_minor": 0
}
