{
 "cells": [
  {
   "cell_type": "markdown",
   "metadata": {},
   "source": [
    "# Matriks Invers\n",
    "\n",
    "Matriks Invers adalah matriks yang ketika dikalikan dengan matriks aslinya menghasilkan matriks identitas. Jika $A$ adalah suatu matriks dan $A^2$ adalah matriks invers, jadi\n",
    "\n",
    "$A$ x $A^{-1}$ = $A^{-1}$ x $A$ = $I$\n",
    "\n",
    "$I$ adalah matrik identitas yang memilki 1 di diagonal utama dan 0 di tempat lainnya. Matriks invers hanya ada untuk matriks persegi (matriks dengan jumlah baris sama dengan jumlah kolom)."
   ]
  },
  {
   "cell_type": "markdown",
   "metadata": {},
   "source": [
    "# Sifat-sifat Matriks Invers\n",
    "\n",
    "* Jika B dan C keduanya adalah invers dari A, maka B = C\n",
    "* Hasil kali dari berapapun banyak matriks yang dapat dibalik adalah matriks yang dapat dibalik, sehingga invers dari hasil perkalian tersebut adalah hasil kali invers-inversnya dalam bentuk terbalik.\n",
    "Contoh :\n",
    "\n",
    "  $P$ = $A$ x $B$ x $C$ x ... x $Z$\n",
    "\n",
    "  dan semua matriks A, B, C, ..., Z dapat dibalik, maka\n",
    "\n",
    "  $P^{-1}$ = $A^{-1}$ x $B^{-1}$ x $C^{-1}$ x ... x $Z^{-1}$\n",
    "* Jika A dan B matriks berukuran sama serta bisa dibalik, maka: AB dapat dibalik."
   ]
  },
  {
   "cell_type": "markdown",
   "metadata": {},
   "source": [
    "# Mencari Matriks Invers dengan Eliminasi Gauss Jordan\n",
    "\n",
    "1. Membalikkan matriks $M$ bersama matriks lain yang sudah ditetapkan pada awal proses menjadi matriks identitas.\n",
    "2. Mengubah matriks $M$ asli menjadi matriks identitas dengan menggunakan operasi dasar yang disebut pengurangan baris dan dilakukan secara paralel.\n",
    "3. Setelah matriks $M$ asli menjadi matriks identitas, matriks kedua akan menjadi $M^{-1}$ matriks inversi."
   ]
  },
  {
   "cell_type": "markdown",
   "metadata": {},
   "source": [
    "# Penyelesaian Matriks Invers dengan Eliminasi Gauss Jordan"
   ]
  },
  {
   "cell_type": "markdown",
   "metadata": {},
   "source": [
    "Persamaan matriks:\n",
    "\n",
    "$$ 2x_1 + x_2 + 3x_3 + 2x_4 = 2 \\\\\n",
    "x_1 + 2x_2 + 3x_3 + x_4 = 4 \\\\\n",
    "x_1 + 3x_2 + x_3 + x_4 = 5 \\\\\n",
    "2x_1 + x_2 + x_3 + 4x_4 = 6 \\\\ $$"
   ]
  },
  {
   "cell_type": "code",
   "execution_count": 1,
   "metadata": {},
   "outputs": [
    {
     "name": "stdout",
     "output_type": "stream",
     "text": [
      "[[2 1 3 2]\n",
      " [1 2 3 1]\n",
      " [1 3 1 1]\n",
      " [2 1 1 4]]\n",
      "[[1 0 0 0]\n",
      " [0 1 0 0]\n",
      " [0 0 1 0]\n",
      " [0 0 0 1]]\n"
     ]
    }
   ],
   "source": [
    "import numpy as np\n",
    "A = np.array([[2,1,3,2],[1,2,3,1],[1,3,1,1],[2,1,1,4]])\n",
    "I = np.array([[1,0,0,0],[0,1,0,0],[0,0,1,0],[0,0,0,1]])\n",
    "\n",
    "print(A)\n",
    "print(I)"
   ]
  },
  {
   "cell_type": "code",
   "execution_count": 2,
   "metadata": {},
   "outputs": [],
   "source": [
    "# Fungsi untuk menukar 2 baris\n",
    "# A adalah matriks NumPy yang akan dimodifikasi\n",
    "# k, l adalah indeks baris yang akan ditukar\n",
    "def RowSwap(A,k,l):\n",
    "    m = A.shape[0]  # m adalah nomor dari baris A\n",
    "    n = A.shape[1]  # n adalah nomor dari kolom A\n",
    "\n",
    "    B = np.copy(A).astype('float64')\n",
    "\n",
    "    for j in range(n):\n",
    "        temp = B[k][j]\n",
    "        B[k][j] = B[l][j]\n",
    "        B[l][j] = temp\n",
    "\n",
    "    return B\n",
    "\n",
    "# Fungsi untuk mengalikan baris yang bukan nol\n",
    "# A adalah matriks NumPy yang akan dimodifikasi\n",
    "def RowScale(A,k,scale):\n",
    "    m = A.shape[0]  # m adalah nomor dari baris A\n",
    "    n = A.shape[1]  # n adalah nomor dari kolom A\n",
    "\n",
    "    B = np.copy(A).astype('float64')\n",
    "\n",
    "    for j in range(n):\n",
    "        B[k][j] *= scale\n",
    "\n",
    "    return B\n",
    "\n",
    "# Fungsi untuk mengalikan sebuah konstanta ke satu baris dan menambahkan ke baris lainnya\n",
    "# l adalah baris yang sudah ditambahkan ke dalam baris k\n",
    "def RowAdd(A,k,l,scale):\n",
    "    m = A.shape[0]  # m adalah nomor dari baris A\n",
    "    n = A.shape[1]  # n adalah nomor dari kolom A\n",
    "\n",
    "    B = np.copy(A).astype('float64')\n",
    "\n",
    "    for j in range(n):\n",
    "        B[l][j] += B[k][j]*scale\n",
    "\n",
    "    return B"
   ]
  },
  {
   "cell_type": "code",
   "execution_count": 3,
   "metadata": {},
   "outputs": [
    {
     "name": "stdout",
     "output_type": "stream",
     "text": [
      "[[1.  0.5 1.5 1. ]\n",
      " [1.  2.  3.  1. ]\n",
      " [1.  3.  1.  1. ]\n",
      " [2.  1.  1.  4. ]]\n",
      "[[0.5 0.  0.  0. ]\n",
      " [0.  1.  0.  0. ]\n",
      " [0.  0.  1.  0. ]\n",
      " [0.  0.  0.  1. ]]\n"
     ]
    }
   ],
   "source": [
    "# Mengalikan baris indeks 0 dengan 1/2\n",
    "A1 = RowScale(A,0,1/2)\n",
    "print(A1)\n",
    "I1 = RowScale(I,0,1/2)\n",
    "print(I1)"
   ]
  },
  {
   "cell_type": "code",
   "execution_count": 4,
   "metadata": {},
   "outputs": [
    {
     "name": "stdout",
     "output_type": "stream",
     "text": [
      "[[1.  0.5 1.5 1. ]\n",
      " [0.  1.5 1.5 0. ]\n",
      " [1.  3.  1.  1. ]\n",
      " [2.  1.  1.  4. ]]\n",
      "[[ 0.5  0.   0.   0. ]\n",
      " [-0.5  1.   0.   0. ]\n",
      " [ 0.   0.   1.   0. ]\n",
      " [ 0.   0.   0.   1. ]]\n"
     ]
    }
   ],
   "source": [
    "# Menambahkan baris indeks 0 dengan baris indeks 1 yang sudah dikalikan -1\n",
    "A2 = RowAdd(A1,0,1,-1)\n",
    "print(A2)\n",
    "I2 = RowAdd(I1,0,1,-1)\n",
    "print(I2)"
   ]
  },
  {
   "cell_type": "code",
   "execution_count": 5,
   "metadata": {},
   "outputs": [
    {
     "name": "stdout",
     "output_type": "stream",
     "text": [
      "[[ 1.   0.5  1.5  1. ]\n",
      " [ 0.   1.5  1.5  0. ]\n",
      " [ 0.   2.5 -0.5  0. ]\n",
      " [ 2.   1.   1.   4. ]]\n",
      "[[ 0.5  0.   0.   0. ]\n",
      " [-0.5  1.   0.   0. ]\n",
      " [-0.5  0.   1.   0. ]\n",
      " [ 0.   0.   0.   1. ]]\n"
     ]
    }
   ],
   "source": [
    "# Menambahkan baris indeks 0 dengan baris indeks 2 yang sudah dikalikan -1\n",
    "A3 = RowAdd(A2,0,2,-1)\n",
    "print(A3)\n",
    "I3 = RowAdd(I2,0,2,-1)\n",
    "print(I3)"
   ]
  },
  {
   "cell_type": "code",
   "execution_count": 6,
   "metadata": {},
   "outputs": [
    {
     "name": "stdout",
     "output_type": "stream",
     "text": [
      "[[ 1.   0.5  1.5  1. ]\n",
      " [ 0.   1.5  1.5  0. ]\n",
      " [ 0.   2.5 -0.5  0. ]\n",
      " [ 0.   0.  -2.   2. ]]\n",
      "[[ 0.5  0.   0.   0. ]\n",
      " [-0.5  1.   0.   0. ]\n",
      " [-0.5  0.   1.   0. ]\n",
      " [-1.   0.   0.   1. ]]\n"
     ]
    }
   ],
   "source": [
    "# Menambahkan baris indeks 0 dengan baris indeks 3 yang sudah dikalikan dengan -2\n",
    "A4 = RowAdd(A3,0,3,-2)\n",
    "print(A4)\n",
    "I4 = RowAdd(I3,0,3,-2)\n",
    "print(I4)"
   ]
  },
  {
   "cell_type": "code",
   "execution_count": 7,
   "metadata": {},
   "outputs": [
    {
     "name": "stdout",
     "output_type": "stream",
     "text": [
      "[[ 1.   0.5  1.5  1. ]\n",
      " [ 0.   1.   1.   0. ]\n",
      " [ 0.   2.5 -0.5  0. ]\n",
      " [ 0.   0.  -2.   2. ]]\n",
      "[[ 0.5         0.          0.          0.        ]\n",
      " [-0.33333333  0.66666667  0.          0.        ]\n",
      " [-0.5         0.          1.          0.        ]\n",
      " [-1.          0.          0.          1.        ]]\n"
     ]
    }
   ],
   "source": [
    "# Mengalikan baris indeks 1 dengan 2/3\n",
    "A5 = RowScale(A4,1,2/3)\n",
    "print(A5)\n",
    "I5 = RowScale(I4,1,2/3)\n",
    "print(I5)"
   ]
  },
  {
   "cell_type": "code",
   "execution_count": 8,
   "metadata": {},
   "outputs": [
    {
     "name": "stdout",
     "output_type": "stream",
     "text": [
      "[[ 1.   0.   1.   1. ]\n",
      " [ 0.   1.   1.   0. ]\n",
      " [ 0.   2.5 -0.5  0. ]\n",
      " [ 0.   0.  -2.   2. ]]\n",
      "[[ 0.66666667 -0.33333333  0.          0.        ]\n",
      " [-0.33333333  0.66666667  0.          0.        ]\n",
      " [-0.5         0.          1.          0.        ]\n",
      " [-1.          0.          0.          1.        ]]\n"
     ]
    }
   ],
   "source": [
    "# Menambahkan baris indeks 1 dengan baris indeks 0 dengan -0,5\n",
    "A6 = RowAdd(A5,1,0,-0.5)\n",
    "print(A6)\n",
    "I6 = RowAdd(I5,1,0,-0.5)\n",
    "print(I6)"
   ]
  },
  {
   "cell_type": "code",
   "execution_count": 9,
   "metadata": {},
   "outputs": [
    {
     "name": "stdout",
     "output_type": "stream",
     "text": [
      "[[ 1.  0.  1.  1.]\n",
      " [ 0.  1.  1.  0.]\n",
      " [ 0.  0. -3.  0.]\n",
      " [ 0.  0. -2.  2.]]\n",
      "[[ 0.66666667 -0.33333333  0.          0.        ]\n",
      " [-0.33333333  0.66666667  0.          0.        ]\n",
      " [ 0.33333333 -1.66666667  1.          0.        ]\n",
      " [-1.          0.          0.          1.        ]]\n"
     ]
    }
   ],
   "source": [
    "# Menambahkan baris indeks 1 dengan baris indeks 2 yang sudah dikalikan -2,5\n",
    "A7 = RowAdd(A6,1,2,-2.5)\n",
    "print(A7)\n",
    "I7 = RowAdd(I6,1,2,-2.5)\n",
    "print(I7)"
   ]
  },
  {
   "cell_type": "code",
   "execution_count": 10,
   "metadata": {},
   "outputs": [
    {
     "name": "stdout",
     "output_type": "stream",
     "text": [
      "[[ 1.  0.  1.  1.]\n",
      " [ 0.  1.  1.  0.]\n",
      " [-0. -0.  1. -0.]\n",
      " [ 0.  0. -2.  2.]]\n",
      "[[ 0.66666667 -0.33333333  0.          0.        ]\n",
      " [-0.33333333  0.66666667  0.          0.        ]\n",
      " [-0.11111111  0.55555556 -0.33333333 -0.        ]\n",
      " [-1.          0.          0.          1.        ]]\n"
     ]
    }
   ],
   "source": [
    "# Mengalikan baris indeks 2 dengan 1/-3\n",
    "A8 = RowScale(A7,2,1/-3)\n",
    "print(A8)\n",
    "I8 = RowScale(I7,2,1/-3)\n",
    "print(I8)"
   ]
  },
  {
   "cell_type": "code",
   "execution_count": 11,
   "metadata": {},
   "outputs": [
    {
     "name": "stdout",
     "output_type": "stream",
     "text": [
      "[[ 1.  0.  0.  1.]\n",
      " [ 0.  1.  1.  0.]\n",
      " [-0. -0.  1. -0.]\n",
      " [ 0.  0. -2.  2.]]\n",
      "[[ 0.77777778 -0.88888889  0.33333333  0.        ]\n",
      " [-0.33333333  0.66666667  0.          0.        ]\n",
      " [-0.11111111  0.55555556 -0.33333333 -0.        ]\n",
      " [-1.          0.          0.          1.        ]]\n"
     ]
    }
   ],
   "source": [
    "# Menambahkan baris indeks 2 dengan baris indeks 0 yang sudah dikalikan 1/-1\n",
    "A9 = RowAdd(A8,2,0,1/-1)\n",
    "print(A9)\n",
    "I9 = RowAdd(I8,2,0,1/-1)\n",
    "print(I9)"
   ]
  },
  {
   "cell_type": "code",
   "execution_count": 12,
   "metadata": {},
   "outputs": [
    {
     "name": "stdout",
     "output_type": "stream",
     "text": [
      "[[ 1.  0.  0.  1.]\n",
      " [ 0.  1.  0.  0.]\n",
      " [-0. -0.  1. -0.]\n",
      " [ 0.  0. -2.  2.]]\n",
      "[[ 0.77777778 -0.88888889  0.33333333  0.        ]\n",
      " [-0.22222222  0.11111111  0.33333333  0.        ]\n",
      " [-0.11111111  0.55555556 -0.33333333 -0.        ]\n",
      " [-1.          0.          0.          1.        ]]\n"
     ]
    }
   ],
   "source": [
    "# Menambahkan baris indeks 2 dengan baris indeks 1 yang sudah dikalikan 1/-1\n",
    "A10 = RowAdd(A9,2,1,1/-1)\n",
    "print(A10)\n",
    "I10 = RowAdd(I9,2,1,1/-1)\n",
    "print(I10)"
   ]
  },
  {
   "cell_type": "code",
   "execution_count": 13,
   "metadata": {},
   "outputs": [
    {
     "name": "stdout",
     "output_type": "stream",
     "text": [
      "[[ 1.  0.  0.  1.]\n",
      " [ 0.  1.  0.  0.]\n",
      " [-0. -0.  1. -0.]\n",
      " [ 0.  0.  0.  2.]]\n",
      "[[ 0.77777778 -0.88888889  0.33333333  0.        ]\n",
      " [-0.22222222  0.11111111  0.33333333  0.        ]\n",
      " [-0.11111111  0.55555556 -0.33333333 -0.        ]\n",
      " [-1.22222222  1.11111111 -0.66666667  1.        ]]\n"
     ]
    }
   ],
   "source": [
    "# Menambahkan baris indeks 2 dengan baris indeks 3 yang sudah dikalikan 2\n",
    "A11 = RowAdd(A10,2,3,2)\n",
    "print(A11)\n",
    "I11 = RowAdd(I10,2,3,2)\n",
    "print(I11)"
   ]
  },
  {
   "cell_type": "code",
   "execution_count": 14,
   "metadata": {},
   "outputs": [
    {
     "name": "stdout",
     "output_type": "stream",
     "text": [
      "[[ 1.  0.  0.  1.]\n",
      " [ 0.  1.  0.  0.]\n",
      " [-0. -0.  1. -0.]\n",
      " [ 0.  0.  0.  1.]]\n",
      "[[ 0.77777778 -0.88888889  0.33333333  0.        ]\n",
      " [-0.22222222  0.11111111  0.33333333  0.        ]\n",
      " [-0.11111111  0.55555556 -0.33333333 -0.        ]\n",
      " [-0.61111111  0.55555556 -0.33333333  0.5       ]]\n"
     ]
    }
   ],
   "source": [
    "# Mengalikan baris indeks 3 dengan 1/2\n",
    "A12 = RowScale(A11,3,1/2)\n",
    "print(A12)\n",
    "I12 = RowScale(I11,3,1/2)\n",
    "print(I12)"
   ]
  },
  {
   "cell_type": "code",
   "execution_count": 15,
   "metadata": {},
   "outputs": [
    {
     "name": "stdout",
     "output_type": "stream",
     "text": [
      "[[ 1.  0.  0.  0.]\n",
      " [ 0.  1.  0.  0.]\n",
      " [-0. -0.  1. -0.]\n",
      " [ 0.  0.  0.  1.]]\n",
      "[[ 1.38888889 -1.44444444  0.66666667 -0.5       ]\n",
      " [-0.22222222  0.11111111  0.33333333  0.        ]\n",
      " [-0.11111111  0.55555556 -0.33333333 -0.        ]\n",
      " [-0.61111111  0.55555556 -0.33333333  0.5       ]]\n"
     ]
    }
   ],
   "source": [
    "# Menambahkan baris indeks 3 dengan baris indeks 0 yang sudak dikalikan 1/-1\n",
    "A13 = RowAdd(A12,3,0,1/-1)\n",
    "print(A13)\n",
    "I13 = RowAdd(I12,3,0,1/-1)\n",
    "print(I13)"
   ]
  },
  {
   "cell_type": "code",
   "execution_count": 16,
   "metadata": {},
   "outputs": [
    {
     "name": "stdout",
     "output_type": "stream",
     "text": [
      "[[-2.66666663]\n",
      " [ 1.66666665]\n",
      " [ 0.33333337]\n",
      " [ 2.33333337]]\n"
     ]
    }
   ],
   "source": [
    "# Mencari hasil X1, X2, X3, X4\n",
    "B = np.array([[1.38888889,-1.44444444,0.66666667,-0.5],[-0.22222222,0.11111111,0.33333333,0],[-0.11111111,0.55555556,-0.33333333,-0],[-0.61111111,0.55555556,-0.33333333,0.5]])\n",
    "C = np.array([[2],[4],[5],[6]])\n",
    "print(B@C)"
   ]
  },
  {
   "cell_type": "code",
   "execution_count": 2,
   "metadata": {},
   "outputs": [],
   "source": [
    "# Fungsi untuk menukar 2 baris\n",
    "# A adalah matriks NumPy yang akan dimodifikasi\n",
    "# k, l adalah indeks baris yang akan ditukar\n",
    "def RowSwap(A,k,l):\n",
    "    m = A.shape[0]  # m adalah nomor dari baris A\n",
    "    n = A.shape[1]  # n adalah nomor dari kolom A\n",
    "\n",
    "    B = np.copy(A).astype('float64')\n",
    "\n",
    "    for j in range(n):\n",
    "        temp = B[k][j]\n",
    "        B[k][j] = B[l][j]\n",
    "        B[l][j] = temp\n",
    "\n",
    "    return B\n",
    "\n",
    "# Fungsi untuk mengalikan baris yang bukan nol\n",
    "# A adalah matriks NumPy yang akan dimodifikasi\n",
    "def RowScale(A,k,scale):\n",
    "    m = A.shape[0]  # m adalah nomor dari baris A\n",
    "    n = A.shape[1]  # n adalah nomor dari kolom A\n",
    "\n",
    "    B = np.copy(A).astype('float64')\n",
    "\n",
    "    for j in range(n):\n",
    "        B[k][j] *= scale\n",
    "\n",
    "    return B\n",
    "\n",
    "# Fungsi untuk mengalikan sebuah konstanta ke satu baris dan menambahkan ke baris lainnya\n",
    "# l adalah baris yang sudah ditambahkan ke dalam baris k\n",
    "def RowAdd(A,k,l,scale):\n",
    "    m = A.shape[0]  # m adalah nomor dari baris A\n",
    "    n = A.shape[1]  # n adalah nomor dari kolom A\n",
    "\n",
    "    B = np.copy(A).astype('float64')\n",
    "\n",
    "    for j in range(n):\n",
    "        B[l][j] += B[k][j]*scale\n",
    "\n",
    "    return B"
   ]
  },
  {
   "cell_type": "markdown",
   "metadata": {},
   "source": [
    "$ 2x_1 + x_2 + 2x_3 = 2 \\\\\n",
    "4x_1 + 2x_2 + 6x_3 = 3 \\\\\n",
    "2x_1 + 2x_2 + 4x_3 = 4 \\\\\n",
    "$"
   ]
  },
  {
   "cell_type": "code",
   "execution_count": 60,
   "metadata": {},
   "outputs": [
    {
     "name": "stdout",
     "output_type": "stream",
     "text": [
      "[[2 1 2 1 0 0]\n",
      " [4 2 6 0 1 0]\n",
      " [2 2 4 0 0 1]]\n"
     ]
    }
   ],
   "source": [
    "import numpy as np\n",
    "A1 = np.array([[2,1,2,1,0,0],[4,2,6,0,1,0],[2,2,4,0,0,1]])\n",
    "print(A1)"
   ]
  },
  {
   "cell_type": "code",
   "execution_count": 61,
   "metadata": {},
   "outputs": [
    {
     "name": "stdout",
     "output_type": "stream",
     "text": [
      "[[1.  0.5 1.  0.5 0.  0. ]\n",
      " [4.  2.  6.  0.  1.  0. ]\n",
      " [2.  2.  4.  0.  0.  1. ]]\n"
     ]
    }
   ],
   "source": [
    "B1 = RowScale(A1,0,0.5)\n",
    "print(B1)"
   ]
  },
  {
   "cell_type": "code",
   "execution_count": 62,
   "metadata": {},
   "outputs": [
    {
     "name": "stdout",
     "output_type": "stream",
     "text": [
      "[[ 1.   0.5  1.   0.5  0.   0. ]\n",
      " [ 0.   0.   2.  -2.   1.   0. ]\n",
      " [ 2.   2.   4.   0.   0.   1. ]]\n"
     ]
    }
   ],
   "source": [
    "C1 = RowAdd(B1,0,1,-4)\n",
    "print(C1)"
   ]
  },
  {
   "cell_type": "code",
   "execution_count": 63,
   "metadata": {},
   "outputs": [
    {
     "name": "stdout",
     "output_type": "stream",
     "text": [
      "[[ 1.   0.5  1.   0.5  0.   0. ]\n",
      " [ 0.   0.   2.  -2.   1.   0. ]\n",
      " [ 0.   1.   2.  -1.   0.   1. ]]\n"
     ]
    }
   ],
   "source": [
    "D1 = RowAdd(C1,0,2,-2)\n",
    "print(D1)"
   ]
  },
  {
   "cell_type": "code",
   "execution_count": 64,
   "metadata": {},
   "outputs": [
    {
     "name": "stdout",
     "output_type": "stream",
     "text": [
      "[[ 1.   0.5  1.   0.5  0.   0. ]\n",
      " [ 0.   1.   2.  -1.   0.   1. ]\n",
      " [ 0.   0.   2.  -2.   1.   0. ]]\n"
     ]
    }
   ],
   "source": [
    "E1 = RowSwap(D1,1,2)\n",
    "print(E1)"
   ]
  },
  {
   "cell_type": "code",
   "execution_count": 65,
   "metadata": {},
   "outputs": [
    {
     "name": "stdout",
     "output_type": "stream",
     "text": [
      "[[ 1.   0.   0.   1.   0.  -0.5]\n",
      " [ 0.   1.   2.  -1.   0.   1. ]\n",
      " [ 0.   0.   2.  -2.   1.   0. ]]\n"
     ]
    }
   ],
   "source": [
    "F1 = RowAdd(E1,1,0,-0.5)\n",
    "print(F1)"
   ]
  },
  {
   "cell_type": "code",
   "execution_count": 67,
   "metadata": {},
   "outputs": [
    {
     "name": "stdout",
     "output_type": "stream",
     "text": [
      "[[ 1.   0.   0.   1.   0.  -0.5]\n",
      " [ 0.   1.   2.  -1.   0.   1. ]\n",
      " [ 0.   0.   1.  -1.   0.5  0. ]]\n"
     ]
    }
   ],
   "source": [
    "G1 = RowScale(F1,2,0.5)\n",
    "print(G1)"
   ]
  },
  {
   "cell_type": "code",
   "execution_count": 70,
   "metadata": {},
   "outputs": [
    {
     "name": "stdout",
     "output_type": "stream",
     "text": [
      "[[ 1.   0.   0.   1.   0.  -0.5]\n",
      " [ 0.   1.   0.   1.  -1.   1. ]\n",
      " [ 0.   0.   1.  -1.   0.5  0. ]]\n"
     ]
    }
   ],
   "source": [
    "H1 = RowAdd(G1,2,1,-2)\n",
    "print(H1)"
   ]
  },
  {
   "cell_type": "code",
   "execution_count": 77,
   "metadata": {},
   "outputs": [
    {
     "data": {
      "text/plain": [
       "array([[ 1. ,  0. , -0.5],\n",
       "       [ 1. , -1. ,  1. ],\n",
       "       [-1. ,  0.5,  0. ]])"
      ]
     },
     "execution_count": 77,
     "metadata": {},
     "output_type": "execute_result"
    }
   ],
   "source": [
    "Ain = H1[:,3:6]\n",
    "Ain"
   ]
  },
  {
   "cell_type": "code",
   "execution_count": 78,
   "metadata": {},
   "outputs": [
    {
     "name": "stdout",
     "output_type": "stream",
     "text": [
      "[[1. 0. 0.]\n",
      " [0. 1. 0.]\n",
      " [0. 0. 1.]]\n"
     ]
    }
   ],
   "source": [
    "A2 = np.array([[1,0,-0.5],[1,-1,1],[-1,0.5,0]])\n",
    "A = np.array([[2,1,2],[4,2,6],[2,2,4]])\n",
    "\n",
    "print(A@Ain)"
   ]
  }
 ],
 "metadata": {
  "kernelspec": {
   "display_name": "Python 3 (ipykernel)",
   "language": "python",
   "name": "python3"
  }
 },
 "nbformat": 4,
 "nbformat_minor": 2
}
