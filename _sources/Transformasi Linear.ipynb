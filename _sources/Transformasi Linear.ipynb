{
  "nbformat": 4,
  "nbformat_minor": 0,
  "metadata": {
    "colab": {
      "provenance": []
    },
    "kernelspec": {
      "name": "python3",
      "display_name": "Python 3"
    },
    "language_info": {
      "name": "python"
    }
  },
  "cells": [
    {
      "cell_type": "markdown",
      "source": [
        "# Transformasi Linear\n",
        "## Definisi\n",
        "Transformasi linear adalah fungsi yang memetakan suatu vektor di ruang vektor V ke ruang vektor W. Dimana vektor V dan W adalah elemen dari vektor 1.\n",
        "\n",
        "Terdapat dua aturan dalam menentukan transformasi linear:\n",
        "* pusat titik tidak berubah\n",
        "* garis lurus ditetapkan sebagai lurus\n",
        "\n",
        "Cara menentukan transformasi linear:\n",
        "1.\tT(u + v) = T(u) + T(v)\n",
        "2.\tT(au) = aT(u)"
      ],
      "metadata": {
        "id": "QRNv5U0Nkvr9"
      }
    },
    {
      "cell_type": "markdown",
      "source": [
        "## Pembuktian Transformasi Linear\n",
        "1. T(u + v) = T(u) + T(v)\n",
        "  Ambil dua vektor $u=\\begin{pmatrix}x_1 \\\\ y_1\\end{pmatrix}$ dan $v=\\begin{pmatrix}x_2 \\\\ y_2\\end{pmatrix}$. Jumlahkan kedua vektor:\n",
        "\n",
        "  $u+v=\\begin{pmatrix}x_1 \\\\ y_1\\end{pmatrix} + \\begin{pmatrix}x_2 \\\\ y_2\\end{pmatrix} = \\begin{pmatrix}x_1+x_2 \\\\ y_1+y_2\\end{pmatrix}$\n",
        "\n",
        "  Sekarang terapkan untuk transformasi $T$ pada $u+v$:\n",
        "\n",
        "  $T(u+v)=T\\begin{pmatrix}x_1+x_2 \\\\ y_1+y_2\\end{pmatrix}=\\begin{pmatrix}a & b\\\\ c & d\\end{pmatrix}\\begin{pmatrix}x_1+x_2 \\\\ y_1+y_2\\end{pmatrix}\\\\\n",
        "  =\\begin{pmatrix}a(x_1+x_2)+b(y_1+y_2)\\\\c(x_1+x_2)+d(y_1+y_2)\\end{pmatrix}$\n",
        "\n",
        "  Selain itu, terapkan juga $T$ pada $u$ dan $v$ secara terpisah, kemudian jumlahkan hasilnya:\n",
        "\n",
        "  $T(u)=T\\begin{pmatrix}x_1\\\\y_1\\end{pmatrix}=\\begin{pmatrix}a & b\\\\c & d\\end{pmatrix}\\begin{pmatrix}x_1\\\\y_1\\end{pmatrix}=\\begin{pmatrix}ax_1 + by_1\\\\cx_1 + dy_1\\end{pmatrix}$\n",
        "\n",
        "  $T(v)=T\\begin{pmatrix}x_2\\\\y_2\\end{pmatrix}=\\begin{pmatrix}a & b\\\\c & d\\end{pmatrix}\\begin{pmatrix}x_2\\\\y_2\\end{pmatrix}=\\begin{pmatrix}ax_2 + by_2\\\\cx_2 + dy_2\\end{pmatrix}$\n",
        "\n",
        "  Jumlahkan kedua hasil tersebut:\n",
        "\n",
        "  $T(u)+T(v)=\\begin{pmatrix}ax_1 + by_1\\\\cx_1 + dy_1\\end{pmatrix}+\\begin{pmatrix}ax_2 + by_2\\\\cx_2 + dy_2\\end{pmatrix}=\\begin{pmatrix}ax_1 + by_1+ax_2 + by_2\\\\cx_1 + dy_1+cx_2 + dy_2\\end{pmatrix}$\n",
        "\n",
        "  maka,\n",
        "\n",
        "  $T(u+v)=T(u)+T(v)$\n",
        "\n",
        "2. T(au) = aT(u)\n",
        "  Ambil vektor $u=\\begin{pmatrix}x \\\\ y\\end{pmatrix}$ dan skalar $a$. Kalikan vektor $u$ dengan skalar $a$\n",
        "\n",
        "  $au=a\\begin{pmatrix}x \\\\ y\\end{pmatrix}=\\begin{pmatrix}ax \\\\ ay\\end{pmatrix}$\n",
        "\n",
        "  Lalu terapkan transformasi $T$ pada $au$:\n",
        "\n",
        "  $T(au)=T\\begin{pmatrix}ax \\\\ ay\\end{pmatrix}=\\begin{pmatrix}a & b \\\\ c & d\\end{pmatrix}\\begin{pmatrix}ax \\\\ ay\\end{pmatrix}=\\begin{pmatrix}a(ax)+b(ay) \\\\ c(ax)+d(ay)\\end{pmatrix}=\\begin{pmatrix}a^2x+aby \\\\ acx+ady\\end{pmatrix}$\n",
        "\n",
        "  Selain itu, terapkan $T$ pada $u$ terlebih dahulu, kemudian kalikan hasilnya dengan skalar $a$:\n",
        "\n",
        "  $T(u)=T\\begin{pmatrix}x \\\\ y\\end{pmatrix}=\\begin{pmatrix}a&b \\\\ c&d\\end{pmatrix}\\begin{pmatrix}x \\\\ y\\end{pmatrix}=\\begin{pmatrix}ax+by \\\\ cx+dy\\end{pmatrix}$\n",
        "\n",
        "  $aT(u)=a\\begin{pmatrix}ax+by \\\\ cx+dy\\end{pmatrix}=\\begin{pmatrix}a(ax+by) \\\\ a(cx+dy)\\end{pmatrix}=\\begin{pmatrix}a^2x+aby \\\\ acx+ady\\end{pmatrix}$\n",
        "\n",
        "  maka,\n",
        "\n",
        "  $T(au) = aT(u)$\n",
        "\n",
        ""
      ],
      "metadata": {
        "id": "ELzio7qYJSyN"
      }
    },
    {
      "cell_type": "markdown",
      "source": [
        "# Matriks Refleksi\n",
        "## Definisi\n",
        "Matriks refleksi adalah matriks yang digunakan untuk merefleksikan (mencerminkan) vektor- vektor dalam ruang terhadap garis, bidang, atau hiperbidang tertentu. Refleksi adalah jenis transformasi linear yang mempertahankan jarak dan sudut, tetapi membalik arah di sepanjang garis atau bidang refleksi.\n",
        "\n",
        "$T\\begin{bmatrix}2\\\\0\\end{bmatrix} = \\begin{bmatrix}-2\\\\0\\end{bmatrix},T\\begin{bmatrix}2\\\\2\\end{bmatrix}=\\begin{bmatrix}-2\\\\2\\end{bmatrix}$\n",
        "\n",
        "Temukan transformasi T pada basis $e_1$ atau $e_2$\n",
        "\n",
        "$\\begin{bmatrix}1\\\\0\\end{bmatrix}=x\\begin{bmatrix}2\\\\0\\end{bmatrix}+y\\begin{bmatrix}2\\\\2\\end{bmatrix}$\n",
        "\n",
        "maka akan menghasilkan,\n",
        "\n",
        "1/2 = x\n",
        "\n",
        "0=y\n",
        "\n",
        "karena T adalah linear maka,\n",
        "\n",
        "x=1/2\n",
        "\n",
        "y=0\n",
        "\n",
        "sehingga,\n",
        "\n",
        "$T\\begin{bmatrix}1\\\\0\\end{bmatrix}=xT\\begin{bmatrix}-2\\\\0\\end{bmatrix}+yT\\begin{bmatrix}-2\\\\2\\end{bmatrix}\\\\\n",
        "=1/2\\begin{bmatrix}-2\\\\0\\end{bmatrix}+0\\begin{bmatrix}-2\\\\2\\end{bmatrix}\\\\\n",
        "=\\begin{bmatrix}-1\\\\0\\end{bmatrix}+\\begin{bmatrix}0\\\\0\\end{bmatrix}\\\\\n",
        "=\\begin{bmatrix}-1\\\\0\\end{bmatrix}$\n",
        "\n",
        "didapatkan kolom pertama matriks A = $\\begin{bmatrix}-1\\\\0\\end{bmatrix}$\n",
        "\n",
        "Selanjutnya untuk kolom yang kedua,\n",
        "\n",
        "$\\begin{bmatrix}0\\\\1\\end{bmatrix}=x\\begin{bmatrix}2\\\\0\\end{bmatrix}+y\\begin{bmatrix}2\\\\2\\end{bmatrix}$\n",
        "\n",
        "maka akan menghasilkan,\n",
        "\n",
        "x=-1/2\n",
        "\n",
        "y=1/2\n",
        "\n",
        "sehingga,\n",
        "\n",
        "$T\\begin{bmatrix}0\\\\1\\end{bmatrix}=xT\\begin{bmatrix}-2\\\\0\\end{bmatrix}+yT\\begin{bmatrix}-2\\\\2\\end{bmatrix}\\\\\n",
        "=-1/2\\begin{bmatrix}-2\\\\0\\end{bmatrix}+1/2\\begin{bmatrix}-2\\\\2\\end{bmatrix}\\\\\n",
        "=\\begin{bmatrix}1\\\\0\\end{bmatrix}+\\begin{bmatrix}-1\\\\1\\end{bmatrix}\\\\\n",
        "=\\begin{bmatrix}0\\\\1\\end{bmatrix}$\n",
        "\n",
        "Gabungkan hasil kolom pertama dan kolom kedua agar mendapatkan matrik A, sehingga didapatkan\n",
        "\n",
        "$A=\\begin{bmatrix}-1 & 0\\\\0 &1\\end{bmatrix}$"
      ],
      "metadata": {
        "id": "MWj0ZJencP0N"
      }
    }
  ]
}