{
  "cells": [
    {
      "cell_type": "markdown",
      "metadata": {
        "id": "oqDZ26yt1Ev_"
      },
      "source": [
        "# Konsep Eigenvalue dan Eigenvector\n",
        "Terdapat matrik bujur sangkar A dengan derajat n. Jika terdapat vektor tidak nol dan skalar $\\lambda$ sehingga\n",
        "\n",
        "$$Ax = \\lambda x$$\n",
        "\n",
        "maka $\\lambda$ disebut eigenvalue dari A, dan x disebut eigenvector yang nilainya bersesuai dengan eigenvalue $\\lambda$.\n",
        "\n",
        "Untuk menemukan eigenvalue, kita harus menyelesaikan:\n",
        "\n",
        "$$det(A-\\lambda)=0$$\n",
        "\n",
        "Setelah mendapatkan $\\lambda$, substitusikan kembali ke persamaan $(A-\\lambda)x = 0$ untuk menemukan vector x."
      ]
    },
    {
      "cell_type": "markdown",
      "metadata": {
        "id": "2SmpW4pL1vXf"
      },
      "source": [
        "# Contoh Menghitung Eigenvalue dan Eigenvactor Menggunakan Numpy\n",
        "Matriks 2x2"
      ]
    },
    {
      "cell_type": "code",
      "execution_count": null,
      "metadata": {
        "colab": {
          "base_uri": "https://localhost:8080/"
        },
        "id": "u6Tc3l9YseXa",
        "outputId": "bcf46279-a5d2-487a-edff-e306beb71d79"
      },
      "outputs": [
        {
          "name": "stdout",
          "output_type": "stream",
          "text": [
            "Matriks ukuran 2x2\n",
            "[[1 4]\n",
            " [2 3]] \n",
            "\n",
            "E-value [-1.  5.] \n",
            "\n",
            "E-value [[-1. -1.]\n",
            " [ 0. -1.]] \n",
            "\n"
          ]
        }
      ],
      "source": [
        "import numpy as np\n",
        "from numpy.linalg import eig\n",
        "\n",
        "# Matriks 2x2\n",
        "A = np.array([[1,4],[2,3]])\n",
        "\n",
        "# Menghitung eigenvalue dan eigenvector\n",
        "w,v = eig(A)\n",
        "\n",
        "print(A, '\\n')\n",
        "print('E-value', w, '\\n')\n",
        "print('E-value', v.round(), '\\n')"
      ]
    },
    {
      "cell_type": "markdown",
      "metadata": {
        "id": "LYLUW8I8t5oo"
      },
      "source": [
        "Matriks 3x3"
      ]
    },
    {
      "cell_type": "code",
      "execution_count": null,
      "metadata": {
        "colab": {
          "base_uri": "https://localhost:8080/"
        },
        "id": "YP-4shPKt46V",
        "outputId": "7198da76-fe44-4690-9f3c-6293caf3aa0c"
      },
      "outputs": [
        {
          "name": "stdout",
          "output_type": "stream",
          "text": [
            "[[1 4 1]\n",
            " [2 3 2]\n",
            " [2 4 5]] \n",
            "\n",
            "E-value [ 8. -1.  2.] \n",
            "\n",
            "E-value [[-0. -1. -1.]\n",
            " [-0.  0. -0.]\n",
            " [-1.  0.  1.]] \n",
            "\n"
          ]
        }
      ],
      "source": [
        "import numpy as np\n",
        "from numpy.linalg import eig\n",
        "\n",
        "# Matriks 3x3\n",
        "A = np.array([[1,4,1],[2,3,2],[2,4,5]])\n",
        "\n",
        "# Menghitung eigenvalue dan eigenvector\n",
        "w,v = eig(A)\n",
        "\n",
        "print(A, '\\n')\n",
        "print('E-value', w.round(), '\\n')\n",
        "print('E-value', v.round(), '\\n')"
      ]
    },
    {
      "cell_type": "markdown",
      "metadata": {
        "id": "RKgMSruW2A1s"
      },
      "source": [
        "# Contoh Implementasi Eigenvalue dan Eigenvector\n",
        "Implementasi PCA melalui EVD dengan python:"
      ]
    },
    {
      "cell_type": "code",
      "execution_count": 1,
      "metadata": {
        "colab": {
          "base_uri": "https://localhost:8080/"
        },
        "id": "QaDZDOO7v9BL",
        "outputId": "c8e2610b-83d9-4051-8c2f-677d5ddefdda"
      },
      "outputs": [
        {
          "name": "stdout",
          "output_type": "stream",
          "text": [
            "Komponen utama:\n",
            " [[-1.  0.]\n",
            " [ 1. -0.]]\n",
            "Eigenvalue:\n",
            " [1. 0.]\n"
          ]
        }
      ],
      "source": [
        "import numpy as np\n",
        "\n",
        "def pcaSVD(X):\n",
        "    n, p = X.shape\n",
        "    X_centered = X - X.mean(axis=0)  # Pusatkan data\n",
        "\n",
        "    u, sigma, vt = np.linalg.svd(X_centered, full_matrices=False)\n",
        "\n",
        "    # Mengembalikan komponen utama dan eigenvalue\n",
        "    return (X_centered @ vt.T), (sigma**2) / (n-1)\n",
        "\n",
        "# Contoh Data\n",
        "x = np.array([[1, 4], [2, 3]])\n",
        "\n",
        "komponen_utama, eigenvalue = pcaSVD(x)\n",
        "print(\"Komponen utama:\\n\", komponen_utama.round())\n",
        "print(\"Eigenvalue:\\n\", eigenvalue.round())\n"
      ]
    },
    {
      "cell_type": "markdown",
      "metadata": {
        "id": "4k3Xwp4uwHDH"
      },
      "source": [
        "  * Terdapat fungsi pcaEVD dengan parameter x.\n",
        "  * n, p = X.shape untuk mendapatkan jumlah sampel dan jumlah fitur dari bentuk matriks x.\n",
        "  * x _= x.mean(axis=0) untuk mengurangkan mean dari setiap kolom data sehingga data memiliki mean 0.\n",
        "  * u, sigma, vt = np.linalg.svd(X, full_matrices=False) untuk memecah matriks x menjadi tiga matriks u, sigma dan vt. \n",
        "  Matriks u adalah matriks ortogonal yang kolom-kolomya adalah vektor singular kiri. \n",
        "  Matriks sigma adalah vektor yang berisi singular values.\n",
        "  Matriks vt adalah ortogonal yang baris-barisnya adalah vektor singular kanan.\n",
        "  * return (X @ vt.T), (sigma^2) / (n-1) untuk mengembalikan nilai ke dalam fungsi.\n",
        "  (X @ vt.T) adalah matriks hasil transformasi data asli ke ruang komponen utama.\n",
        "  (sigma^2) / (n-1) adalah nilai eigen yang digunakan untuk menghitung proporsi variansi."
      ]
    }
  ],
  "metadata": {
    "colab": {
      "provenance": []
    },
    "kernelspec": {
      "display_name": "Python 3",
      "name": "python3"
    },
    "language_info": {
      "name": "python"
    }
  },
  "nbformat": 4,
  "nbformat_minor": 0
}
