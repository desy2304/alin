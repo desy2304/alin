{
  "cells": [
    {
      "cell_type": "markdown",
      "metadata": {
        "id": "O-yjrPK30RIy"
      },
      "source": [
        "# Algoritma KAL"
      ]
    },
    {
      "cell_type": "markdown",
      "metadata": {
        "id": "nmpOBOW8z6l0"
      },
      "source": [
        "# Algoritma PageRank\n",
        "\n",
        "## Deskripsi Algoritma PageRank\n",
        "Algoritma PageRank adalah sebuah algoritma yang digunakan oleh mesin pencari Google untuk menentukan peringkat halaman web dalam hasil pencarian. Algoritma ini didasarkan bahwa halaman web yang penting kemungkinan besar akan menerima lebih banyak tautan dari halaman web lainnya.\n",
        "\n",
        "## Konsep Algoritma PageRank\n",
        "PageRank memiliki konsep dasar dimana dalam setiap halaman akan diperhitungkan inbound link(link masuk) dan outbound link(link keluar) dari setiap halaman web. Tetapi tidak hanya itu, dengan melakukan pendekatan yang prosesnya terjadi secara rekursif dimana sebuah rangking akan ditentukan oleh rangking dari halaman web rangking yang rankingnya ditentukan oleh ranking halaman web lain yang memiliki link ke halaman tersebut. Proses ini berarti suatu proses yang berulang(rekursif).\n",
        "\n",
        "## Contoh Pengerjaan PageRank\n",
        "$$r_j = \\sum\\limits_{i=1}\\frac{r_i}{d_i}$$\n",
        "\n",
        "$r_0 = \\frac{r_4}{3}$\n",
        "\n",
        "$r_1 = \\frac{r_2}{2}+\\frac{r_4}{3}+r_3$\n",
        "\n",
        "$r_2 = \\frac{r_0}{3}+\\frac{r_4}{3}$\n",
        "\n",
        "$r_3 = \\frac{r_2}{2}+\\frac{r_0}{3}$\n",
        "\n",
        "$r_4 = \\frac{r_0}{3}+r_1$\n",
        "\n",
        "$A = \\begin{bmatrix}\n",
        "0 & 0 & 0 & 0 & \\frac{1}{3}\\\\\n",
        "0 & 0 & \\frac{1}{2} & 1 & \\frac{1}{3}\\\\\n",
        "\\frac{1}{3} & 0 & 0 & 0 & \\frac{1}{3}\\\\\n",
        "\\frac{1}{3} & 0 & \\frac{1}{2} & 0 & 0\\\\\n",
        "\\frac{1}{3} & 1 & 0 & 0 & 0\\\\\n",
        "\\end{bmatrix}$\n",
        "\n",
        "$V0 = \\begin{bmatrix}\n",
        "0,2 \\\\ 0,2 \\\\ 0,2 \\\\ 0,2 \\\\ 0,2\\\\\n",
        "\\end{bmatrix}$\n",
        "\n",
        "toleransi = 0,01"
      ]
    },
    {
      "cell_type": "code",
      "execution_count": 1,
      "metadata": {
        "colab": {
          "base_uri": "https://localhost:8080/"
        },
        "id": "f7g5RUquj_RQ",
        "outputId": "4deabff0-3100-4757-a944-2f7899cc7d61"
      },
      "outputs": [
        {
          "name": "stdout",
          "output_type": "stream",
          "text": [
            "[[0.06666667]\n",
            " [0.36666667]\n",
            " [0.13333333]\n",
            " [0.16666667]\n",
            " [0.26666667]]\n"
          ]
        }
      ],
      "source": [
        "import numpy as np\n",
        "\n",
        "A = np.array([[0,0,0,0,1/3],[0,0,1/2,1,1/3],[1/3,0,0,0,1/3],[1/3,0,1/2,0,0],[1/3,1,0,0,0]])\n",
        "v0 = np.array([[0.2],[0.2],[0.2],[0.2],[0.2]])\n",
        "\n",
        "v1 = A @ v0\n",
        "print(v1)"
      ]
    },
    {
      "cell_type": "code",
      "execution_count": 2,
      "metadata": {
        "colab": {
          "base_uri": "https://localhost:8080/"
        },
        "id": "5SkUm0HYVmSF",
        "outputId": "5bf3c9e5-2e62-47a0-a9c4-b64a3139a44f"
      },
      "outputs": [
        {
          "name": "stdout",
          "output_type": "stream",
          "text": [
            "[[0.08888889]\n",
            " [0.32222222]\n",
            " [0.11111111]\n",
            " [0.08888889]\n",
            " [0.38888889]]\n"
          ]
        }
      ],
      "source": [
        "v2 = A @ v1\n",
        "print(v2)"
      ]
    },
    {
      "cell_type": "code",
      "execution_count": 4,
      "metadata": {
        "colab": {
          "base_uri": "https://localhost:8080/"
        },
        "id": "5WgZJ4E3Vqkb",
        "outputId": "3ca05b64-7908-4052-ef3e-87658f6c4468"
      },
      "outputs": [
        {
          "name": "stdout",
          "output_type": "stream",
          "text": [
            "[[0.12962963]\n",
            " [0.27407407]\n",
            " [0.15925926]\n",
            " [0.08518519]\n",
            " [0.35185185]]\n"
          ]
        }
      ],
      "source": [
        "v3 = A @ v2\n",
        "print(v3)"
      ]
    },
    {
      "cell_type": "code",
      "execution_count": 5,
      "metadata": {
        "colab": {
          "base_uri": "https://localhost:8080/"
        },
        "id": "zOxrBH7EVxcR",
        "outputId": "f26ea498-a5d1-4cbb-8ac7-25eae3e5df86"
      },
      "outputs": [
        {
          "name": "stdout",
          "output_type": "stream",
          "text": [
            "[[0.11728395]\n",
            " [0.28209877]\n",
            " [0.16049383]\n",
            " [0.12283951]\n",
            " [0.31728395]]\n"
          ]
        }
      ],
      "source": [
        "v4 = A @ v3\n",
        "print(v4)"
      ]
    },
    {
      "cell_type": "code",
      "execution_count": 6,
      "metadata": {
        "colab": {
          "base_uri": "https://localhost:8080/"
        },
        "id": "kUApO-mXV3go",
        "outputId": "f945f872-19d5-40cc-cf05-d6e43575c299"
      },
      "outputs": [
        {
          "name": "stdout",
          "output_type": "stream",
          "text": [
            "[[0.10576132]\n",
            " [0.30884774]\n",
            " [0.14485597]\n",
            " [0.11934156]\n",
            " [0.32119342]]\n"
          ]
        }
      ],
      "source": [
        "v5 = A @ v4\n",
        "print(v5)"
      ]
    },
    {
      "cell_type": "markdown",
      "metadata": {
        "id": "nDsoDMBWjz08"
      },
      "source": [
        "$$\\begin{vmatrix}V_{i+1}-V_i\\end{vmatrix}^2$$\n",
        "\n",
        "$= \\begin{pmatrix}0,10-0,11\\end{pmatrix}^2 + \\begin{pmatrix}0,30-0,28\\end{pmatrix}^2 + \\begin{pmatrix}0,14-0,16\\end{pmatrix}^2 + \\begin{pmatrix}0,11-0,12\\end{pmatrix}^2 + \\begin{pmatrix}0,32-0,31\\end{pmatrix}^2$\n",
        "\n",
        "$= \\begin{pmatrix}0,01\\end{pmatrix}^2 + \\begin{pmatrix}0,02\\end{pmatrix}^2 + \\begin{pmatrix}0,02\\end{pmatrix}^2 +\n",
        "\\begin{pmatrix}0,01\\end{pmatrix}^2 + \\begin{pmatrix}0,01\\end{pmatrix}^2$\n",
        "\n",
        "$= 0,0001 + 0,0004 + 0,0004 + 0,0001 + 0,0001$\n",
        "\n",
        "$= 0,0011 < 0,01$"
      ]
    },
    {
      "cell_type": "code",
      "execution_count": 10,
      "metadata": {
        "colab": {
          "base_uri": "https://localhost:8080/"
        },
        "id": "bP03fr62mym7",
        "outputId": "16bc95c1-b859-483f-84a1-45ed3222fc09"
      },
      "outputs": [
        {
          "name": "stdout",
          "output_type": "stream",
          "text": [
            "0.0010999999999999981\n"
          ]
        }
      ],
      "source": [
        "a = (0.10 - 0.11)**2\n",
        "b = (0.30 - 0.28)**2\n",
        "c = (0.14 - 0.16)**2\n",
        "d = (0.11 - 0.12)**2\n",
        "e = (0.32 - 0.31)**2\n",
        "\n",
        "f = a + b + c + d + e\n",
        "\n",
        "print(f)"
      ]
    },
    {
      "cell_type": "code",
      "execution_count": 1,
      "metadata": {
        "colab": {
          "base_uri": "https://localhost:8080/"
        },
        "id": "6HExnOEs2mZ5",
        "outputId": "6e56c82f-d4a9-4cd4-fb95-d651cd3dc6bc"
      },
      "outputs": [
        {
          "name": "stdout",
          "output_type": "stream",
          "text": [
            "A = [[0.         0.         0.         0.         0.33333333]\n",
            " [0.         0.         0.5        1.         0.33333333]\n",
            " [0.33333333 0.         0.         0.         0.33333333]\n",
            " [0.33333333 0.         0.5        0.         0.        ]\n",
            " [0.33333333 1.         0.         0.         0.        ]]\n",
            "\n",
            "v0 = [[0.2]\n",
            " [0.2]\n",
            " [0.2]\n",
            " [0.2]\n",
            " [0.2]]\n",
            "\n",
            "v1 = [[0.06666667]\n",
            " [0.36666667]\n",
            " [0.13333333]\n",
            " [0.16666667]\n",
            " [0.26666667]]\n",
            "\n",
            "0.05555555555555557 < 0.01\n",
            "v1\n",
            "[[0.08888889]\n",
            " [0.32222222]\n",
            " [0.11111111]\n",
            " [0.08888889]\n",
            " [0.38888889]]\n",
            "\n",
            "0.023950617283950627 < 0.01\n",
            "\n",
            "v2\n",
            "[[0.12962963]\n",
            " [0.27407407]\n",
            " [0.15925926]\n",
            " [0.08518519]\n",
            " [0.35185185]]\n",
            "\n",
            "0.007681755829903978 < 0.01\n",
            "\n"
          ]
        }
      ],
      "source": [
        "import numpy as np\n",
        "\n",
        "def kondisi(v0, v1):\n",
        "    a = 0\n",
        "    for i in range(len(v0)):\n",
        "        a += (v1[i] - v0[i]) ** 2\n",
        "    return a[0]\n",
        "\n",
        "def kali(mat, v0, v1):\n",
        "    a = kondisi(v0, v1)\n",
        "    loop = 2\n",
        "    print(a, \"< 0.01\")\n",
        "    loop = 0\n",
        "    while a > 0.01:\n",
        "        loop += 1\n",
        "        new = np.dot(mat, v1)\n",
        "        a = kondisi(v1, new)\n",
        "        print(f\"v{loop}\")\n",
        "        print(new)\n",
        "        print()\n",
        "        print(a, \"< 0.01\")\n",
        "        print()\n",
        "        v1 = new\n",
        "\n",
        "A = np.array([[0,0,0,0,1/3],[0,0,1/2,1,1/3],[1/3,0,0,0,1/3],[1/3,0,1/2,0,0],[1/3,1,0,0,0]])\n",
        "print(\"A =\",A)\n",
        "print()\n",
        "v0 = np.array([[1/5],[1/5],[1/5],[1/5],[1/5]])\n",
        "print(\"v0 =\",v0)\n",
        "print()\n",
        "v1 = A @ v0\n",
        "print(\"v1 =\",v1)\n",
        "print()\n",
        "\n",
        "kali(A, v0, v1)"
      ]
    }
  ],
  "metadata": {
    "colab": {
      "provenance": []
    },
    "kernelspec": {
      "display_name": "Python 3 (ipykernel)",
      "language": "python",
      "name": "python3"
    },
    "language_info": {
      "codemirror_mode": {
        "name": "ipython",
        "version": 3
      },
      "file_extension": ".py",
      "mimetype": "text/x-python",
      "name": "python",
      "nbconvert_exporter": "python",
      "pygments_lexer": "ipython3",
      "version": "3.10.13"
    }
  },
  "nbformat": 4,
  "nbformat_minor": 0
}
