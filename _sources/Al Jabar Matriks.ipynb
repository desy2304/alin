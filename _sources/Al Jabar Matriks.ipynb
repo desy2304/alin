{
 "cells": [
  {
   "cell_type": "markdown",
   "metadata": {},
   "source": [
    "# Al Jabar Matriks"
   ]
  },
  {
   "cell_type": "markdown",
   "metadata": {},
   "source": [
    "Matriks adalah susunan berupa bilangan-bilangan atau elemen-elemen yang disusun dalam baris dan kolom. Matriks direpresentasikan dalam bentuk tabel dengan baris-baris dan kolom-kolom. Setiap elemen dalam matriks diberi indeks berdasarkan posisinya dalam baris dan kolom."
   ]
  },
  {
   "cell_type": "markdown",
   "metadata": {},
   "source": [
    "# Jenis-jenis matiks dan Contohnya"
   ]
  },
  {
   "cell_type": "markdown",
   "metadata": {},
   "source": [
    "1. Matriks Nol\n",
    "\n",
    "   Matriks di mana semua elemennya adalah nol.\n",
    "   \n",
    "   Contoh:\n",
    "\n",
    "   $\n",
    "   \\begin{bmatrix}\n",
    "   0 & 0 \\\\\n",
    "   0 & 0 \\\\\n",
    "   \\end{bmatrix}\n",
    "   $\n",
    "\n",
    "2. Matriks Identitas\n",
    "\n",
    "   Adalah matriks persegi di mana semua elemen di diagonal utamanya adalah 1 dan elemen-elemen lainnya adalah 0.\n",
    "\n",
    "   Contoh:\n",
    "\n",
    "   $\n",
    "   \\begin{bmatrix} \n",
    "   1 & 0 \\\\ \n",
    "   0 & 1 \\\\\n",
    "   \\end{bmatrix}\n",
    "   $\n",
    "\n",
    "3. Matriks Diagonal\n",
    "\n",
    "   Adalah matriks di mana semua elemen di luar diagonal utama adalah nol.\n",
    "\n",
    "   Contoh:\n",
    "\n",
    "   $\n",
    "   \\begin{bmatrix} \n",
    "   2 & 0 & 0 \\\\ \n",
    "   0 & 3 & 0 \\\\ \n",
    "   0 & 0 & 4 \\\\\n",
    "   \\end{bmatrix}\n",
    "   $\n",
    "\n",
    "4. Matriks Segitiga Atas\n",
    "\n",
    "   Adalah matriks di mana semua elemen di bawah diagonal utama adalah nol.\n",
    "\n",
    "   Contoh:\n",
    "\n",
    "   $\n",
    "   \\begin{bmatrix}\n",
    "   1 & 2 & 3 \\\\ \n",
    "   0 & 4 & 5 \\\\ \n",
    "   0 & 0 & 6 \\\\\n",
    "   \\end{bmatrix}\n",
    "   $\n",
    "\n",
    "5. Matriks Segitiga Bawah\n",
    "\n",
    "   Adalah matriks di mana semua elemen di atas diagonal utama adalah nol.\n",
    "\n",
    "   Contoh:\n",
    "\n",
    "   $\n",
    "   \\begin{bmatrix} \n",
    "   1 & 0 & 0 \\\\ \n",
    "   2 & 3 & 0 \\\\ \n",
    "   4 & 5 & 6 \\\\\n",
    "   \\end{bmatrix}\n",
    "   $\n",
    "\n",
    "6. Matriks Simetris\n",
    "\n",
    "   Adalah matriks di mana elemen-elemennya simetris terhadap diagonal utama.\n",
    "\n",
    "   Contoh:\n",
    "\n",
    "   $\n",
    "   \\begin{bmatrix} \n",
    "   1 & 2 & 3 \\\\ \n",
    "   2 & 4 & 5 \\\\ \n",
    "   3 & 5 & 6 \\\\\n",
    "   \\end{bmatrix}\n",
    "   $\n",
    "\n",
    "7. Matriks Ortogonal\n",
    "\n",
    "   Adalah matriks persegi di mana perkaliannya dengan transposenya menghasilkan matriks identitas.\n",
    "\n",
    "   Contoh:\n",
    "\n",
    "   $\n",
    "   \\begin{bmatrix} \n",
    "   0 & 1 \\\\ \n",
    "   1 & 0 \\\\\n",
    "   \\end{bmatrix}\n",
    "   $\n",
    "\n",
    "8. Matriks Singular\n",
    "\n",
    "   Adalah matriks di mana determinannya sama dengan nol.\n",
    "\n",
    "   Contoh:\n",
    "\n",
    "   $\n",
    "   \\begin{bmatrix} \n",
    "   1 & 2 \\\\ \n",
    "   2 & 4 \\\\\n",
    "   \\end{bmatrix}\n",
    "   $"
   ]
  },
  {
   "cell_type": "markdown",
   "metadata": {},
   "source": [
    "# Operasi Sistem Persamaan Linear"
   ]
  },
  {
   "cell_type": "markdown",
   "metadata": {},
   "source": [
    "## 1. Penjumlahan dan Pengurangan\n",
    "Persamaan-persamaan dalam sistem dapat ditambah atau dikurangi satu sama lain untuk menghilangkan variabel tertentu. Misal:\n",
    "\n",
    "$$ a1x + b1y = c1 \\\\\n",
    "a2x + b2y = c2 \\\\ $$\n",
    "\n",
    "Kita bisa mengurangkan persamaan kedua dari persamaan pertama untuk menghilangkan variabel $x$ dan $y$.\n"
   ]
  },
  {
   "cell_type": "code",
   "execution_count": 1,
   "metadata": {},
   "outputs": [
    {
     "name": "stdout",
     "output_type": "stream",
     "text": [
      "[[7 7 7]\n",
      " [7 7 7]]\n",
      "[[-5 -3 -1]\n",
      " [ 1  3  5]]\n"
     ]
    }
   ],
   "source": [
    "# Contoh implementasi dengan numpy\n",
    "import numpy as np\n",
    "A = np.array([[1,2,3],[4,5,6]])\n",
    "B = np.array([[6,5,4],[3,2,1]])\n",
    "\n",
    "print(A+B)\n",
    "print(A-B)"
   ]
  },
  {
   "cell_type": "markdown",
   "metadata": {},
   "source": [
    "## 2. Perkalian\n",
    "Perkalian matriks adalah proses dengan mengalikan elemen-elemen baris dari matriks pertama dengan elemen-elemen kolom dari matriks kedua dan menjumlahkan hasil perkalian tersebut."
   ]
  },
  {
   "cell_type": "code",
   "execution_count": 2,
   "metadata": {},
   "outputs": [
    {
     "name": "stdout",
     "output_type": "stream",
     "text": [
      "[[20 14]\n",
      " [56 41]]\n"
     ]
    }
   ],
   "source": [
    "# Contoh implementasi dengan numpy\n",
    "import numpy as np\n",
    "A = np.array([[1,2,3],[4,5,6]])\n",
    "B = np.array([[6,5],[4,3],[2,1]])\n",
    "\n",
    "print(A@B)"
   ]
  },
  {
   "cell_type": "markdown",
   "metadata": {},
   "source": [
    "## 3. Transpose\n",
    "Transpose matriks adalah operasi yang mengubah baris menjadi kolom dan sebaliknya. Dalam transpose, elemen-elemen diagonal utama tetap tidak berubah, tetapi elemen-elemen di luar diagonal utama dipindahkan ke posisi yang sesuai. Misalnya, jika A adalah matriks dengan ukuran m x n, maka transpose dari A ditulis sebagai $A^T$ yang akan menjadi matriks dengan ukuran n x m, dimana elemen-elemen baris pada A menjadi $A^T$."
   ]
  },
  {
   "cell_type": "code",
   "execution_count": 4,
   "metadata": {},
   "outputs": [
    {
     "name": "stdout",
     "output_type": "stream",
     "text": [
      "[[1 2 3]\n",
      " [4 5 6]]\n",
      "[[1 4]\n",
      " [2 5]\n",
      " [3 6]]\n"
     ]
    }
   ],
   "source": [
    "# Contoh implementasi dengan numpy\n",
    "import numpy as np\n",
    "A = np.array([[1,2,3],[4,5,6]])\n",
    "C = np.transpose(A)\n",
    "\n",
    "print(A)\n",
    "print(C)"
   ]
  },
  {
   "cell_type": "markdown",
   "metadata": {},
   "source": [
    "## Berikut adalah contoh kode Python yang mengalikan dua matrix menggunakan perulangan"
   ]
  },
  {
   "cell_type": "code",
   "execution_count": 3,
   "metadata": {},
   "outputs": [
    {
     "name": "stdout",
     "output_type": "stream",
     "text": [
      "Hasil perkalian matriks:\n",
      "[67, 75]\n",
      "[148, 168]\n"
     ]
    }
   ],
   "source": [
    "def mul_matrix(a, b):\n",
    "  if len(a[0]) != len(b):\n",
    "    print(\"error --- require\", len(a[0]), \"but found\", len(b), \"error matrix\")\n",
    "    return None\n",
    "\n",
    "  result = []\n",
    "  for i in range(len(a)):\n",
    "    row = []\n",
    "    for j in range(len(b[0])):\n",
    "      total = 0\n",
    "      for k in range(len(b)):\n",
    "        total += a[i][k] * b[k][j]\n",
    "      row.append(total)\n",
    "    result.append(row)\n",
    "\n",
    "  return result\n",
    "\n",
    "# Contoh Penggunaan\n",
    "matrix1 = [[1, 3, 3], [4, 6, 6]]\n",
    "matrix2 = [[7, 9], [9, 10], [11, 12]]\n",
    "\n",
    "result = mul_matrix(matrix1, matrix2)\n",
    "if result:\n",
    "    print(\"Hasil perkalian matriks:\")\n",
    "    for row in result:\n",
    "        print(row)"
   ]
  }
 ],
 "metadata": {
  "kernelspec": {
   "display_name": "Python 3 (ipykernel)",
   "language": "python",
   "name": "python3"
  },
  "language_info": {
   "codemirror_mode": {
    "name": "ipython",
    "version": 3
   },
   "file_extension": ".py",
   "mimetype": "text/x-python",
   "name": "python",
   "nbconvert_exporter": "python",
   "pygments_lexer": "ipython3",
   "version": "3.10.13"
  }
 },
 "nbformat": 4,
 "nbformat_minor": 2
}
